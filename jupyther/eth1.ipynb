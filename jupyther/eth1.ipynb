{
 "cells": [
  {
   "cell_type": "code",
   "execution_count": 35,
   "metadata": {},
   "outputs": [],
   "source": [
    "import time\n",
    "from web3 import Web3, HTTPProvider"
   ]
  },
  {
   "cell_type": "code",
   "execution_count": 36,
   "metadata": {},
   "outputs": [],
   "source": [
    "web3 = Web3(HTTPProvider('http://localhost:8545'))"
   ]
  },
  {
   "cell_type": "code",
   "execution_count": 37,
   "metadata": {},
   "outputs": [],
   "source": [
    "from solc import compile_source, compile_files\n",
    "contract_name = 'MyToken'\n",
    "bin_dir = 'D:\\\\Dados\\\\OneDrive\\\\Doutorado\\\\workspace\\\\bc-playground\\\\bin\\\\'\n",
    "c_abi = open(bin_dir + contract_name + '.abi', \"r\").read()\n",
    "c_bin = open(bin_dir + contract_name + '.bin', \"r\").read()"
   ]
  },
  {
   "cell_type": "code",
   "execution_count": 38,
   "metadata": {},
   "outputs": [],
   "source": [
    "AIFMRMCoin = web3.eth.contract(abi=c_abi, bytecode=c_bin)"
   ]
  },
  {
   "cell_type": "code",
   "execution_count": 39,
   "metadata": {},
   "outputs": [],
   "source": [
    "\n",
    "#web3.eth.accounts[13]"
   ]
  },
  {
   "cell_type": "code",
   "execution_count": 40,
   "metadata": {},
   "outputs": [
    {
     "data": {
      "text/plain": [
       "True"
      ]
     },
     "execution_count": 40,
     "metadata": {},
     "output_type": "execute_result"
    }
   ],
   "source": [
    "web3.personal.unlockAccount(web3.eth.accounts[13], 'thiago', 0)"
   ]
  },
  {
   "cell_type": "code",
   "execution_count": 47,
   "metadata": {},
   "outputs": [
    {
     "data": {
      "text/plain": [
       "HexBytes('0x7fd00a67dd073ab7b4e5fa4057e98a3beff45493eaa1c7a084ad61d6ddb204e9')"
      ]
     },
     "execution_count": 47,
     "metadata": {},
     "output_type": "execute_result"
    }
   ],
   "source": [
    "# Get transaction hash from deployed contract\n",
    "tx_hash = AIFMRMCoin.constructor().transact({'from': web3.eth.accounts[13], 'gas': 1000000})"
   ]
  },
  {
   "cell_type": "code",
   "execution_count": 45,
   "metadata": {},
   "outputs": [],
   "source": [
    "#old delpoyment\n",
    "#tx_hash = AIFMRMCoin.deploy(transaction={'from': web3.eth.accounts[13], 'gas': 1000000})"
   ]
  },
  {
   "cell_type": "code",
   "execution_count": 44,
   "metadata": {},
   "outputs": [],
   "source": [
    "# Get tx receipt to get contract address\n",
    "tx_receipt = web3.eth.getTransactionReceipt(tx_hash)"
   ]
  },
  {
   "cell_type": "code",
   "execution_count": 48,
   "metadata": {},
   "outputs": [
    {
     "data": {
      "text/plain": [
       "(HexBytes('0x7d00f5e3980675ca0ba5af6191bd11c034432a1675ff5b54a2158f732ec98828'),\n",
       " AttributeDict({'blockHash': HexBytes('0xa07cbc3499ee220a462ce5d84bd5cc2e4f471a353d7136d3e072c4f880f1a28c'),\n",
       "  'blockNumber': 52,\n",
       "  'contractAddress': '0xd47D2d20f93e091a2497E10C676D3b537D6E03F6',\n",
       "  'cumulativeGasUsed': 226468,\n",
       "  'from': '0xac5f3c69e6261077fb2678053db2188683590125',\n",
       "  'gasUsed': 226468,\n",
       "  'logs': [],\n",
       "  'logsBloom': HexBytes('0x00000000000000000000000000000000000000000000000000000000000000000000000000000000000000000000000000000000000000000000000000000000000000000000000000000000000000000000000000000000000000000000000000000000000000000000000000000000000000000000000000000000000000000000000000000000000000000000000000000000000000000000000000000000000000000000000000000000000000000000000000000000000000000000000000000000000000000000000000000000000000000000000000000000000000000000000000000000000000000000000000000000000000000000000000000000'),\n",
       "  'root': '0x0b1e7e6b1286a968f2c2a1e9d5b583d6853eb2fffd3b89e7281d508a195c6405',\n",
       "  'to': None,\n",
       "  'transactionHash': HexBytes('0x7d00f5e3980675ca0ba5af6191bd11c034432a1675ff5b54a2158f732ec98828'),\n",
       "  'transactionIndex': 0}))"
      ]
     },
     "execution_count": 48,
     "metadata": {},
     "output_type": "execute_result"
    }
   ],
   "source": [
    "tx_receipt"
   ]
  },
  {
   "cell_type": "code",
   "execution_count": 50,
   "metadata": {},
   "outputs": [
    {
     "data": {
      "text/plain": [
       "'0xd47D2d20f93e091a2497E10C676D3b537D6E03F6'"
      ]
     },
     "execution_count": 50,
     "metadata": {},
     "output_type": "execute_result"
    }
   ],
   "source": [
    "contract_address = tx_receipt['contractAddress']\n",
    "contract_address"
   ]
  },
  {
   "cell_type": "code",
   "execution_count": null,
   "metadata": {},
   "outputs": [],
   "source": [
    "# Mint 500 coins and check balance\n",
    "AIFMRMCoin.transact(transaction={'from': web3.eth.accounts[0], 'gas': 1000000, 'to': contract_address}).mint(web3.eth.accounts[0], 500)\n",
    "AIFMRMCoin.call(transaction={'from': web3.eth.accounts[0], 'gas': 1000000, 'to': contract_address}).balances(web3.eth.accounts[0])"
   ]
  }
 ],
 "metadata": {
  "kernelspec": {
   "display_name": "Python 3",
   "language": "python",
   "name": "python3"
  },
  "language_info": {
   "codemirror_mode": {
    "name": "ipython",
    "version": 3
   },
   "file_extension": ".py",
   "mimetype": "text/x-python",
   "name": "python",
   "nbconvert_exporter": "python",
   "pygments_lexer": "ipython3",
   "version": "3.7.0"
  }
 },
 "nbformat": 4,
 "nbformat_minor": 2
}
