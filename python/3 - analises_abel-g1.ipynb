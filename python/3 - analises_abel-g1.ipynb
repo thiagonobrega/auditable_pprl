{
 "cells": [
  {
   "cell_type": "markdown",
   "metadata": {
    "collapsed": true,
    "pycharm": {
     "is_executing": true
    }
   },
   "source": [
    "# Imports"
   ]
  },
  {
   "cell_type": "code",
   "execution_count": 36,
   "metadata": {
    "pycharm": {
     "is_executing": false
    }
   },
   "outputs": [],
   "source": [
    "import multiprocessing as mp\n",
    "import numpy as np\n",
    "import pandas as pd\n",
    "import seaborn as sns\n",
    "import matplotlib.pyplot as plt\n",
    "import seaborn as sns\n",
    "\n",
    "from lib.util.env import getbase_dir\n",
    "from encrypt import encrypt_data_in_memory\n",
    "from lib.mybloom.bloomutil import jaccard_coefficient\n",
    "from splitting_bf.evaluation import split_bf #change method\n",
    "from splitting_bf.evaluation import simulated_sbf_protocol # removido temporariamente\n",
    "from splitting_bf.evaluation import simulated_sbf_protocol2\n",
    "\n",
    "\n",
    "import matplotlib.ticker as ticker\n",
    "\n",
    "#isTrueMatch(gold_standard_dblp_acm,'journals/sigmod/Dogac02',507340)"
   ]
  },
  {
   "cell_type": "markdown",
   "metadata": {},
   "source": [
    "# Metodos"
   ]
  },
  {
   "cell_type": "markdown",
   "metadata": {},
   "source": [
    "## Metodos de simulacao"
   ]
  },
  {
   "cell_type": "code",
   "execution_count": 2,
   "metadata": {
    "pycharm": {
     "is_executing": false
    }
   },
   "outputs": [],
   "source": [
    "def split_ds(df,n):\n",
    "    retorno = []\n",
    "    for row in df:\n",
    "        retorno.append([row[0],row[1],split_bf(row[1],n),n])\n",
    "    return pd.DataFrame(retorno, columns = ['id' , 'bf', 'sbf' , 'n_sbf'])\n",
    "\n",
    "\n",
    "def calculate_sbf_similarity(dfa,dfb,split_pos=0):\n",
    "    \"\"\"\n",
    "    O split_sim e apenas o do split\n",
    "    o sbf_sim e de tudo\n",
    "\n",
    "    :param dfa:\n",
    "    :param dfb:\n",
    "    :param split_pos:\n",
    "    :return:\n",
    "    \"\"\"\n",
    "    result = []\n",
    "    for indexa, rowa in dfa.iterrows():\n",
    "        for indexb, rowb in dfb.iterrows():\n",
    "            full_bf_sim = jaccard_coefficient(rowa[1],rowb[1])\n",
    "            # print(rowa[2])\n",
    "            split_sim = jaccard_coefficient(rowa[2][split_pos],rowb[2][split_pos])\n",
    "\n",
    "            soma = 0\n",
    "            for i in range(0,len(rowa[2])):\n",
    "                soma += jaccard_coefficient(rowa[2][i], rowb[2][i])\n",
    "\n",
    "            result.append({'id_a': rowa[0], 'id_b': rowb[0], 'full_bf': full_bf_sim, 'split_sim': split_sim, 'sbf_sim': soma/len(rowa[2]), 'splits': len(rowa[2])})\n",
    "\n",
    "    return pd.DataFrame(result)\n",
    "\n",
    "\n",
    "def private_calculate_precision_recall(zdf,technique):\n",
    "    clean_r = []\n",
    "    for index, row in zdf.iterrows():\n",
    "        # if count % 100 == 0:\n",
    "        #     print(count)\n",
    "        # count += 1\n",
    "\n",
    "        # id_max = zdf[(zdf['id_a'] == row['id_a']) & (zdf['id_b'] == row['id_b'])]['sbf_sim'].idxmax()\n",
    "        id_max_a = zdf[(zdf['id_a'] == row['id_a'])][technique].idxmax()\n",
    "        id_max_b = zdf[(zdf['id_b'] == row['id_b'])][technique].idxmax()\n",
    "\n",
    "        if (id_max_a == id_max_b) and (id_max_a == index):\n",
    "            # print(row)\n",
    "            rp = {'id_a': row['id_a'], 'id_b': row['id_b'], 'sbf_sim': row['sbf_sim'], 'bf_sim': row['bf_sim'],\n",
    "                  'sbf_stat': row['sbf_stat'],'bf_stat': row['bf_stat']}\n",
    "            clean_r.append(rp)\n",
    "\n",
    "    return pd.DataFrame(clean_r)\n",
    "\n",
    "\n",
    "    zdf = x_final\n",
    "    gs = gs_dict\n",
    "    for a in zdf.alfa.unique():\n",
    "        max_p_bf = -1\n",
    "        max_r_bf = -1\n",
    "        for e in zdf.beta_error.unique():\n",
    "            for s in zdf.sbf_splits.unique():\n",
    "                # quociente full bf\n",
    "                clean_bf = zdf[(zdf.alfa == a) & (zdf.beta_error == e) & (zdf.sbf_splits == s)]\n",
    "                qp_bf = len(clean_bf[clean_bf.bf_stat == 'FM']) + len(clean_bf[clean_bf.bf_stat == 'TM'])\n",
    "                if qp_bf != 0:\n",
    "                    p_bf = len(clean_bf[clean_bf.bf_stat == 'TM']) / qp_bf\n",
    "                else:\n",
    "                    print('aqui')\n",
    "                    p_bf = 0\n",
    "\n",
    "                r_bf = len(clean_bf[clean_bf.bf_stat == 'TM']) / len(gs)\n",
    "                max_p_bf = max(max_p_bf,p_bf)\n",
    "                max_r_bf = max(max_r_bf,r_bf)"
   ]
  },
  {
   "cell_type": "code",
   "execution_count": 3,
   "metadata": {},
   "outputs": [],
   "source": [
    "def calculate_sbf_similarity_blk(dfa,dfb,dic_blk,split_pos=0):\n",
    "    \"\"\"\n",
    "    O split_sim e apenas o do split\n",
    "    o sbf_sim e de tudo\n",
    "\n",
    "    :param dfa:\n",
    "    :param dfb:\n",
    "    :param split_pos:\n",
    "    :return:\n",
    "    \"\"\"\n",
    "    result = []\n",
    "    for indexa, rowa in dfa.iterrows():\n",
    "        for indexb, rowb in dfb.iterrows():\n",
    "            if candset.get(str(rowa[0])+str(rowb[0]),False):\n",
    "                full_bf_sim = jaccard_coefficient(rowa[1],rowb[1])\n",
    "                # print(rowa[2])\n",
    "                split_sim = jaccard_coefficient(rowa[2][split_pos],rowb[2][split_pos])\n",
    "                \n",
    "\n",
    "                soma = 0\n",
    "                for i in range(0,len(rowa[2])):\n",
    "                    soma += jaccard_coefficient(rowa[2][i], rowb[2][i])\n",
    "\n",
    "                result.append({'id_a': rowa[0], 'id_b': rowb[0], 'full_bf': full_bf_sim, 'split_sim': split_sim, 'sbf_sim': soma/len(rowa[2]), 'splits': len(rowa[2])})\n",
    "            else:\n",
    "                pass\n",
    "\n",
    "    return pd.DataFrame(result)\n"
   ]
  },
  {
   "cell_type": "code",
   "execution_count": 4,
   "metadata": {
    "pycharm": {
     "is_executing": true
    }
   },
   "outputs": [],
   "source": [
    "def processar_blocados(a,b,candset,outfile,splits_lenght=[3 , 4 , 5 , 6 , 7]):\n",
    "#     splits_lenght=[3 , 4 , 5 , 6 , 7 , 8]\n",
    "    \n",
    "    similarity = []\n",
    "\n",
    "    for s in splits_lenght:\n",
    "        print(s)\n",
    "        #df_acm = split_ds(eacm[0:10], s)\n",
    "        #df_dblp = split_ds(edblp[0:10], s)\n",
    "        df_a = split_ds(a, s)\n",
    "        df_b = split_ds(b, s)\n",
    "        import time\n",
    "        \n",
    "        start_time = time.time()\n",
    "        z = calculate_sbf_similarity_blk(df_a,df_b,candset)\n",
    "        print(\"\\t %s seconds\" % (time.time() - start_time))\n",
    "        if len(similarity) == 0:\n",
    "            similarity = z\n",
    "        else:\n",
    "            similarity = pd.concat([similarity, z])\n",
    "\n",
    "    del df_a\n",
    "    del df_b\n",
    "\n",
    "    similarity.to_csv(getbase_dir(['results', 'abel_01']) + outfile)"
   ]
  },
  {
   "cell_type": "markdown",
   "metadata": {},
   "source": [
    "## Metodos de plotagem"
   ]
  },
  {
   "cell_type": "code",
   "execution_count": 5,
   "metadata": {
    "pycharm": {
     "is_executing": false
    }
   },
   "outputs": [],
   "source": [
    "def plot_line_metric(dfm, title, ds='dblp_acm', dir='sbf_03'):\n",
    "    fig, ax = plt.subplots(figsize=(8, 5))\n",
    "    sns.lineplot(data=pf, x='threshold_alfa', y='vals', hue='bf_type',\n",
    "                 linewidth=2.5, dashes=[(0, 0), (2, 2)])\n",
    "    # sns.barplot(data=pf, x='threshold_alfa', y='vals', hue='cols',\n",
    "    #             linewidth=2.5)\n",
    "    # palette = \"tab10\"\n",
    "    ax.set_title(title)\n",
    "    ax.set_ylabel(\"\")\n",
    "    ax.grid('on')\n",
    "    plt.tight_layout()\n",
    "    plt.show()\n",
    "    fig.savefig(file)\n",
    "    file = getbase_dir(['results', dir, ds + title + '.png'])\n",
    "\n",
    "\n",
    "def plot_metric(df,metric='f1'):\n",
    "    \"\"\"\n",
    "\n",
    "    :param df:\n",
    "    :param metric: recall, precision and f1 (default)\n",
    "    :return:\n",
    "    \"\"\"\n",
    "\n",
    "    # global fig, ax, y, x\n",
    "    fig, ax = plt.subplots(figsize=(8, 5))\n",
    "    sns.barplot(data=df, x='alfa', y=metric+'_sbf',\n",
    "                capsize=.2, color='gray')\n",
    "    # ax2 = ax.twinx()\n",
    "    y = []\n",
    "    for x in df.alfa.unique():\n",
    "        y.append(df[df.alfa == x][metric+'_bf_full'].max())\n",
    "    ax.plot(ax.get_xticks(), y, color='red',\n",
    "            linestyle='--', linewidth=3, label='full_bf')\n",
    "    ax.grid('on')\n",
    "    # ax2.grid(False)\n",
    "    # plt.tight_layout()\n",
    "    plt.show()\n",
    "    plt.close()\n",
    "    plt.clf()\n",
    "\n",
    "def plot_all_metrics(df,ds='dblp-acm',fsize=(12, 5)):\n",
    "    \"\"\"\n",
    "\n",
    "    :param df:\n",
    "    :param metric: recall, precision and f1 (default)\n",
    "    :return:\n",
    "    \"\"\"\n",
    "\n",
    "    # global fig, ax, y, x\n",
    "    fig, axs = plt.subplots(figsize=fsize, ncols=3)\n",
    "    metrics = ['f1','precision', 'recall']\n",
    "    for i in range(0, len(axs)):\n",
    "        ax = axs[i]\n",
    "        metric = metrics[i]\n",
    "        sns.barplot(data=df, x='alfa', y=metrics[i] + '_sbf',\n",
    "                    capsize=.1, color='skyblue', alpha=0.8 ,\n",
    "                    ax=ax)\n",
    "        # sns.barplot(data=df, x='alfa', y=metrics[i] + '_sbf',\n",
    "        #             capsize=.2, ax=ax)\n",
    "\n",
    "        ax.set_title(metric)\n",
    "\n",
    "        y = []\n",
    "        for x in df.alfa.unique():\n",
    "            y.append(df[df.alfa == x][metrics[i] + '_bf_full'].mean())\n",
    "\n",
    "        ax.plot(ax.get_xticks(), y, color='red',\n",
    "                linestyle='--', linewidth=2, label='full_bf')\n",
    "        ax.grid('on')\n",
    "        ax.set_ylabel(\"\")\n",
    "        ax.set_xlabel(r'$\\alpha$')\n",
    "\n",
    "    plt.tight_layout()\n",
    "    plt.show()\n",
    "    plt.close()\n",
    "    plt.clf()\n",
    "#     file = getbase_dir(['results', 'abel_01']) + 'plot_all_metrics_considering_alfas_' + ds + '.png'\n",
    "    file = getbase_dir(['results', 'vldb']) + 'plot_all_metrics_considering_alfas_' + ds + '.png'\n",
    "    file = getbase_dir(['results', 'vldb']) + 'plot_all_metrics_considering_alfas_' + ds + '.pdf'\n",
    "    fig.savefig(file, dpi=300)"
   ]
  },
  {
   "cell_type": "markdown",
   "metadata": {},
   "source": [
    "# Processamento"
   ]
  },
  {
   "cell_type": "markdown",
   "metadata": {},
   "source": [
    "## variaveis de ambiente"
   ]
  },
  {
   "cell_type": "code",
   "execution_count": 6,
   "metadata": {
    "pycharm": {
     "is_executing": true
    }
   },
   "outputs": [],
   "source": [
    "gold_standard_dblp_acm = pd.read_csv(getbase_dir(['Datasets', 'leipzig_dblp_acm']) + 'DBLP-ACM_perfectMapping.csv',\n",
    "                                         sep=',')\n",
    "gs_dict = {}\n",
    "for indexa, row in gold_standard_dblp_acm.iterrows():\n",
    "    gs_dict[str(row[0])+str(row[1])] = True\n",
    "\n",
    "del gold_standard_dblp_acm"
   ]
  },
  {
   "cell_type": "markdown",
   "metadata": {
    "heading_collapsed": true
   },
   "source": [
    "# Dataset pre-processing and anonymization"
   ]
  },
  {
   "cell_type": "markdown",
   "metadata": {
    "heading_collapsed": true,
    "hidden": true
   },
   "source": [
    "## Calcular similaridade (dblp-acm)"
   ]
  },
  {
   "cell_type": "markdown",
   "metadata": {
    "hidden": true
   },
   "source": [
    "Carregar variaveis"
   ]
  },
  {
   "cell_type": "code",
   "execution_count": null,
   "metadata": {
    "hidden": true,
    "pycharm": {
     "is_executing": true
    }
   },
   "outputs": [],
   "source": [
    "acm = pd.read_csv(getbase_dir(['Datasets', 'leipzig_dblp_acm']) + 'ACM.csv', sep=',')\n",
    "dblp = pd.read_csv(getbase_dir(['Datasets', 'leipzig_dblp_acm']) + 'DBLP2.csv', sep=',', encoding='latin')\n",
    "\n",
    "eacm = encrypt_data_in_memory(acm, [1, 2, 3, 4], 1024)\n",
    "edblp = encrypt_data_in_memory(dblp, [1, 2, 3, 4], 1024)"
   ]
  },
  {
   "cell_type": "markdown",
   "metadata": {
    "hidden": true
   },
   "source": [
    "Computar similaridades"
   ]
  },
  {
   "cell_type": "code",
   "execution_count": null,
   "metadata": {
    "hidden": true,
    "pycharm": {
     "is_executing": true
    }
   },
   "outputs": [],
   "source": [
    "    splits_lenght = [3 , 4 , 5 , 6 , 7 , 8]\n",
    "    similarity = []\n",
    "\n",
    "    for s in splits_lenght:\n",
    "        print(s)\n",
    "        #df_acm = split_ds(eacm[0:10], s)\n",
    "        #df_dblp = split_ds(edblp[0:10], s)\n",
    "        df_acm = split_ds(eacm, s)\n",
    "        df_dblp = split_ds(edblp, s)\n",
    "        import time\n",
    "        start_time = time.time()\n",
    "        z = calculate_sbf_similarity(df_dblp,df_acm)\n",
    "        print(\"\\t %s seconds\" % (time.time() - start_time))\n",
    "        if len(similarity) == 0:\n",
    "            similarity = z\n",
    "        else:\n",
    "            similarity = pd.concat([similarity, z])\n",
    "\n",
    "    del df_acm\n",
    "    del df_dblp\n",
    "\n",
    "    similarity.to_csv(getbase_dir(['results', 'abel_01']) + 'dblp_acm_sim.csv')"
   ]
  },
  {
   "cell_type": "markdown",
   "metadata": {
    "heading_collapsed": true,
    "hidden": true
   },
   "source": [
    "## Calcular similaridade (NCVR)"
   ]
  },
  {
   "cell_type": "code",
   "execution_count": 26,
   "metadata": {
    "hidden": true,
    "pycharm": {
     "is_executing": true
    }
   },
   "outputs": [],
   "source": [
    "a = pd.read_csv(getbase_dir(['Datasets', 'NCVR']) + 'a.csv', sep=';')\n",
    "b = pd.read_csv(getbase_dir(['Datasets', 'NCVR']) + 'b.csv', sep=';')\n",
    "\n",
    "a = encrypt_data_in_memory(a,[1,2,3,4,5,6,7], 96)\n",
    "b = encrypt_data_in_memory(b,[1,2,3,4,5,6,7], 96)"
   ]
  },
  {
   "cell_type": "code",
   "execution_count": 27,
   "metadata": {
    "hidden": true
   },
   "outputs": [],
   "source": [
    "candset = pd.read_csv(getbase_dir(['Datasets', 'NCVR']) + 'sample-candset.csv', sep=',')\n",
    "candset = candset.iloc[:,[1,8]]\n",
    "candset.columns = ['a','b']\n",
    "\n",
    "candset['key'] = candset.a.astype(str) + candset.b.astype(str)\n",
    "del candset['a']\n",
    "del candset['b']\n",
    "\n",
    "candset['presente'] = True\n",
    "\n",
    "candset.set_index('key',inplace=True)\n",
    "\n",
    "candset.to_dict()\n",
    "\n",
    "candset = candset['presente']"
   ]
  },
  {
   "cell_type": "code",
   "execution_count": 29,
   "metadata": {
    "hidden": true,
    "run_control": {
     "marked": true
    }
   },
   "outputs": [],
   "source": [
    "processar_blocados(a,b,candset,'ncvr_sim.csv')"
   ]
  },
  {
   "cell_type": "markdown",
   "metadata": {
    "heading_collapsed": true,
    "hidden": true
   },
   "source": [
    "## Calcular similaridade (MVR)"
   ]
  },
  {
   "cell_type": "code",
   "execution_count": 138,
   "metadata": {
    "hidden": true,
    "pycharm": {
     "is_executing": true
    }
   },
   "outputs": [],
   "source": [
    "a = pd.read_csv(getbase_dir(['Datasets', 'MVR']) + 'a.csv', sep=';')\n",
    "b = pd.read_csv(getbase_dir(['Datasets', 'MVR']) + 'b.csv', sep=';')\n",
    "\n",
    "a = encrypt_data_in_memory(a,[1,2,3,4,5,6], 96)\n",
    "b = encrypt_data_in_memory(b,[1,2,3,4,5,6], 96)"
   ]
  },
  {
   "cell_type": "code",
   "execution_count": 139,
   "metadata": {
    "hidden": true
   },
   "outputs": [],
   "source": [
    "candset = pd.read_csv(getbase_dir(['Datasets', 'MVR']) + 'sample-candset.csv', sep=',')\n",
    "candset = candset.iloc[:,[1,7]]\n",
    "candset.columns = ['a','b']\n",
    "\n",
    "candset['key'] = candset.a.astype(str) + candset.b.astype(str)\n",
    "del candset['a']\n",
    "del candset['b']\n",
    "\n",
    "candset['presente'] = True\n",
    "\n",
    "candset.set_index('key',inplace=True)\n",
    "\n",
    "candset.to_dict()\n",
    "\n",
    "candset = candset['presente']"
   ]
  },
  {
   "cell_type": "code",
   "execution_count": 140,
   "metadata": {
    "hidden": true,
    "run_control": {
     "marked": true
    }
   },
   "outputs": [
    {
     "name": "stdout",
     "output_type": "stream",
     "text": [
      "3\n",
      "\t 35.8510000705719 seconds\n",
      "4\n",
      "\t 44.300599098205566 seconds\n",
      "5\n",
      "\t 47.92539429664612 seconds\n",
      "6\n",
      "\t 61.52339220046997 seconds\n",
      "7\n",
      "\t 84.65678334236145 seconds\n"
     ]
    }
   ],
   "source": [
    "processar_blocados(a,b,candset,'mvr_sim.csv')"
   ]
  },
  {
   "cell_type": "markdown",
   "metadata": {
    "heading_collapsed": true,
    "hidden": true
   },
   "source": [
    "## Calcular similaridade (yv-er)"
   ]
  },
  {
   "cell_type": "code",
   "execution_count": 122,
   "metadata": {
    "hidden": true,
    "pycharm": {
     "is_executing": true
    }
   },
   "outputs": [],
   "source": [
    "a = pd.read_csv(getbase_dir(['Datasets', 'yv-er']) + 'a.csv', sep=';')\n",
    "b = pd.read_csv(getbase_dir(['Datasets', 'yv-er']) + 'b.csv', sep=';')\n",
    "\n",
    "a = encrypt_data_in_memory(a,[1,2,3,4,5,6], 96)\n",
    "b = encrypt_data_in_memory(b,[1,2,3,4,5,6], 96)"
   ]
  },
  {
   "cell_type": "code",
   "execution_count": 123,
   "metadata": {
    "hidden": true
   },
   "outputs": [],
   "source": [
    "candset = pd.read_csv(getbase_dir(['Datasets', 'yv-er']) + 'sample-candset.csv', sep=',')\n",
    "candset = candset.iloc[:,[1,7]]\n",
    "candset.columns = ['a','b']\n",
    "\n",
    "candset['key'] = candset.a.astype(str) + candset.b.astype(str)\n",
    "del candset['a']\n",
    "del candset['b']\n",
    "\n",
    "candset['presente'] = True\n",
    "\n",
    "candset.set_index('key',inplace=True)\n",
    "\n",
    "candset.to_dict()\n",
    "\n",
    "candset = candset['presente']"
   ]
  },
  {
   "cell_type": "code",
   "execution_count": null,
   "metadata": {
    "hidden": true,
    "run_control": {
     "marked": true
    }
   },
   "outputs": [
    {
     "name": "stdout",
     "output_type": "stream",
     "text": [
      "3\n"
     ]
    }
   ],
   "source": [
    "processar_blocados(a,b,candset,'yv-er_sim.csv')"
   ]
  },
  {
   "cell_type": "markdown",
   "metadata": {
    "hidden": true
   },
   "source": [
    "3\n",
    "\t 10281.317951202393 seconds\n",
    "     \n",
    "4\n",
    "\t 9708.988660812378 seconds\n",
    "     \n",
    "5\n",
    "\t 9669.344830989838 seconds\n",
    "     \n",
    "6\n",
    "\t 9720.3784096241 seconds\n",
    "     \n",
    "7\n",
    "\t 9904.934796333313 seconds"
   ]
  },
  {
   "cell_type": "markdown",
   "metadata": {},
   "source": [
    "# Protocol simulation"
   ]
  },
  {
   "cell_type": "markdown",
   "metadata": {},
   "source": [
    "## Caregar similaridade"
   ]
  },
  {
   "cell_type": "code",
   "execution_count": 7,
   "metadata": {
    "pycharm": {
     "is_executing": true
    }
   },
   "outputs": [],
   "source": [
    "# similarity = pd.read_csv(getbase_dir(['results', 'abel_01']) + 'dblp_acm_sim.csv')\n",
    "# z = similarity[(similarity.id_a=='conf/vldb/PoosalaI96') & (similarity.id_b==304587)]\n",
    "# print(similarity.memory_usage(index=True).sum()/1024/1024)"
   ]
  },
  {
   "cell_type": "code",
   "execution_count": 30,
   "metadata": {},
   "outputs": [],
   "source": [
    "similarity = []\n",
    "for i in ['mvr_sim.csv','ncvr_sim.csv','yv-er_sim.csv','dblp-acm_sim_blocada.csv']:\n",
    "    a = pd.read_csv(getbase_dir(['results', 'abel_01']) + i)\n",
    "    a['ds'] = i.split('_')[0]  \n",
    "    if len(similarity) == 0:\n",
    "        similarity = a\n",
    "    else:\n",
    "        similarity = pd.concat([similarity,a])"
   ]
  },
  {
   "cell_type": "markdown",
   "metadata": {},
   "source": [
    "ajuste nos dados se necessario"
   ]
  },
  {
   "cell_type": "code",
   "execution_count": 31,
   "metadata": {
    "pycharm": {
     "is_executing": true
    }
   },
   "outputs": [],
   "source": [
    "# len(similarity)\n",
    "    # len(similarity[similarity.splits.isin([3,5,8])])\n",
    "len(similarity)\n",
    "s = similarity[similarity['splits'].isin([8, 16,32,64,128])]\n",
    "len(s)\n",
    "del similarity\n",
    "similarity = s\n",
    "del s\n",
    "#del indexa\n",
    "#del row"
   ]
  },
  {
   "cell_type": "markdown",
   "metadata": {},
   "source": [
    "## Simulação do protocolo"
   ]
  },
  {
   "cell_type": "code",
   "execution_count": 32,
   "metadata": {},
   "outputs": [],
   "source": [
    "def debug_print(texto,printf=False):\n",
    "    if printf:\n",
    "        print(texto)"
   ]
  },
  {
   "cell_type": "code",
   "execution_count": 37,
   "metadata": {
    "pycharm": {
     "is_executing": true
    }
   },
   "outputs": [],
   "source": [
    "def exec_abel_sim(ds, chunks, gs_dict, alfas_t = [.5],\n",
    "                  errors_a5 = [.001,.01,.025,.5,.15,.2,.25,.3,.37],\n",
    "                  v = 'alfa5e', out_dir='abel_output'):\n",
    "    # alfas_t = [0.1,0.2,0.3,0.4,0.5,0.6,0.7,0.8,0.9]\n",
    "    #v = 'alfa1'\n",
    "    x_final = []\n",
    "\n",
    "    # from multiprocessing.pool import ThreadPool\n",
    "    # pool = ThreadPool(processes=8)\n",
    "    pool = mp.Pool(processes=8)\n",
    "\n",
    "    for c in range(0,len(chunks)):\n",
    "        sim_chunk = chunks.pop(0)\n",
    "\n",
    "        debug_print(\"=========== chunk: \" + str(c))\n",
    "\n",
    "        total = 0\n",
    "        for k in range(0,len(chunks)):\n",
    "            total += sim_chunk.memory_usage(index=True).sum()/1024/1024\n",
    "        debug_print(total)\n",
    "\n",
    "        for alfa in alfas_t:\n",
    "\n",
    "            debug_print(\"=== \" + str(alfa))\n",
    "            # x.to_csv('x.csv',index=False)\n",
    "            # x = pd.read_csv('x.csv')\n",
    "\n",
    "            # stand alone\n",
    "            # x = simulated_sbf_protocol(similarity, gs_dict, alfa , error= 0.1)\n",
    "            # para utilizar  a simulaçao\n",
    "\n",
    "            debug_print(\"\\t Poll criado\")\n",
    "\n",
    "            # results = [pool.imap(simulated_sbf_protocol,\n",
    "            results = [pool.apply_async(simulated_sbf_protocol, # atencao novo protocolo\n",
    "                                        args=(sim_chunk, gs_dict, alfa),\n",
    "                                        # args=(similarity, gs_dict, alfa),\n",
    "    #                                     kwds={'error': e}) for e in np.arange(0.01, .2, 0.04)\n",
    "                                        kwds={'error': e}) for e in errors_a5\n",
    "                                        # kwds={'error': e}) for e in np.arange(0.01, .4, 0.9)\n",
    "                                        #kwds={'error': e}) for e in np.arange(0.01, .4, 0.07)\n",
    "                       ]\n",
    "\n",
    "            output = [p.get() for p in results]\n",
    "\n",
    "            x = output[0]\n",
    "            for pdf in output[1:]:\n",
    "                x = x.append(pdf, ignore_index=True)\n",
    "\n",
    "\n",
    "            ######\n",
    "            ######\n",
    "            ##\n",
    "            ## salva os resultados intermediarops\n",
    "            ##\n",
    "            ######\n",
    "            ######\n",
    "    #         print(\"\\t Resultados capturados\")\n",
    "    #         x.to_csv(\n",
    "    #             getbase_dir(['results', 'abel_01']) + 'intermediate_dblp_acm_'+v+'_chunk' + str(c) + '_' + str(alfa) + '.csv')\n",
    "    #         print(\"\\t Resultados salvos\")\n",
    "\n",
    "            if len(x_final) == 0:\n",
    "                x_final = x\n",
    "            else:\n",
    "                x_final = pd.concat([x_final, x])\n",
    "\n",
    "        del sim_chunk\n",
    "\n",
    "    pool.close()\n",
    "\n",
    "    #del chunks, output\n",
    "    #del pool\n",
    "    #del pd\n",
    "    #del results\n",
    "    #### fora do for\n",
    "    x_final.to_csv(getbase_dir(['results', out_dir]) + lds + '_'+v+'.csv')\n"
   ]
  },
  {
   "cell_type": "code",
   "execution_count": 53,
   "metadata": {
    "pycharm": {
     "is_executing": true
    },
    "scrolled": true
   },
   "outputs": [
    {
     "name": "stdout",
     "output_type": "stream",
     "text": [
      "MVR\t done!\n",
      "NCVR\t done!\n",
      "yv-er\t done!\n",
      "leipzig_dblp_acm\t done!\n"
     ]
    }
   ],
   "source": [
    "for ds in ['MVR','NCVR','yv-er','leipzig_dblp_acm']:\n",
    "# for ds in ['MVR','NCVR']:\n",
    "\n",
    "    lds = ds\n",
    "    if ds in ['MVR','NCVR']:\n",
    "        lds = ds.lower()\n",
    "    if ds == 'leipzig_dblp_acm':\n",
    "        lds = 'dblp-acm'\n",
    "\n",
    "    temp = similarity[similarity.ds == lds]\n",
    "    chunks = np.array_split(temp, 8)\n",
    "\n",
    "    if lds == 'dblp-acm':\n",
    "        lsep=','\n",
    "    else:\n",
    "        lsep=';'\n",
    "        \n",
    "    gs = pd.read_csv(getbase_dir(['Datasets', ds , ]) + 'gold.csv', sep=lsep)\n",
    "    gs_dict = {}\n",
    "    for indexa, row in gs.iterrows():\n",
    "        gs_dict[str(row[0])+str(row[1])] = True\n",
    "    \n",
    "    alfas = [0.1,0.2,0.3,0.4,0.5,0.6,0.7,0.8,0.9]\n",
    "    exec_abel_sim(ds,chunks,gs_dict,alfas_t=alfas,v='allAlfas')\n",
    "    # best\n",
    "#     exec_abel_sim(lds,chunks,gs_dict,alfas_t=[.5])\n",
    "    \n",
    "    print(ds + '\\t done!')"
   ]
  },
  {
   "cell_type": "code",
   "execution_count": 183,
   "metadata": {
    "pycharm": {
     "is_executing": true
    }
   },
   "outputs": [],
   "source": [
    "# recuperar pelos intermediarios\n",
    "### antigo para trabalhar com chunks\n",
    "# x_final = []\n",
    "# for alfa in alfas_t:\n",
    "#     for c in range(0,12): \n",
    "#         x = pd.read_csv(getbase_dir(['results', 'abel_01']) + 'intermediate_dblp_acm_'+v+'_chunk' + str(c) + '_' + str(alfa) + '.csv')\n",
    "#         if len(x_final) == 0:\n",
    "#             x_final = x\n",
    "#         else:\n",
    "#             x_final = pd.concat([x_final, x])\n",
    "\n",
    "# x_final.to_csv(getbase_dir(['results', 'abel_01']) + 'dblp_acm_x_final_'+v+'.csv')"
   ]
  },
  {
   "cell_type": "markdown",
   "metadata": {},
   "source": [
    "# Calculando os resultados da simulação"
   ]
  },
  {
   "cell_type": "code",
   "execution_count": 44,
   "metadata": {
    "pycharm": {
     "is_executing": true
    }
   },
   "outputs": [],
   "source": [
    "def calculate_precision_recall(zdf, gs, ds_name , full_bf_len=1024):\n",
    "\n",
    "    # zdf = fdf[fdf.abel_1st_s == True]\n",
    "    count = 0\n",
    "\n",
    "    saida = []\n",
    "    for a in zdf.alfa.unique():\n",
    "        max_p_bf = -1\n",
    "        max_r_bf = -1\n",
    "        for e in zdf.beta_error.unique():\n",
    "            for s in zdf.sbf_splits.unique():\n",
    "                # quociente full bf'\n",
    "                clean_bf = zdf[(zdf.alfa == a) & (zdf.beta_error == e) & (zdf.sbf_splits == s)]\n",
    "                \n",
    "                TP = len(clean_bf[clean_bf.bf_stat == 'TM'])\n",
    "                #FALSE POSITIVE\n",
    "                FP = len(clean_bf[clean_bf.bf_stat == 'FM'])\n",
    "                #FALSE NEGATIVE\n",
    "                FN = len(gs) - TP\n",
    "                \n",
    "                qp_spf = TP + FP\n",
    "                p_bf = 0 #investigar\n",
    "                \n",
    "                if qp_spf != 0:\n",
    "                    p_bf = TP / qp_spf\n",
    "                else:\n",
    "                    p_sbf = 0\n",
    "                \n",
    "                r_bf = TP / (TP + FN)\n",
    "                \n",
    "                max_p_bf = max(max_p_bf, p_bf)\n",
    "                max_r_bf = max(max_r_bf, r_bf)\n",
    "#                 print(max_r_bf)\n",
    "        \n",
    "        del clean_bf\n",
    "        del p_bf\n",
    "        del r_bf\n",
    "\n",
    "\n",
    "        for e in zdf.beta_error.unique():\n",
    "            for s in zdf.sbf_splits.unique(): \n",
    "                \n",
    "                #Colocar true no 1st_la\n",
    "                clean_sbf = zdf[(zdf.abel_1st_s == True ) & (zdf.alfa == a) & (zdf.beta_error == e) & (zdf.sbf_splits == s)]\n",
    "                \n",
    "                #TRUE POSITIVE\n",
    "                TP = len(clean_sbf[clean_sbf.sbf_stat == 'TM'])\n",
    "                #FALSE POSITIVE\n",
    "                FP = len(clean_sbf[clean_sbf.sbf_stat == 'FM'])\n",
    "                #FALSE NEGATIVE\n",
    "                FN = len(gs) - TP               \n",
    "                \n",
    "                # cociente precision\n",
    "                qp_spf = TP + FP\n",
    "                if qp_spf != 0:\n",
    "                    p_sbf = TP / qp_spf\n",
    "                else:\n",
    "                    p_sbf = 0\n",
    "\n",
    "                r_sbf = TP / (TP + FN)\n",
    "\n",
    "                saida.append([ds_name, s, full_bf_len, a, e, p_sbf, r_sbf, max_p_bf, max_r_bf])\n",
    "\n",
    "    return pd.DataFrame(saida, columns = ['ds_name', 'sbf_splits' , 'bf_len' ,\n",
    "                                          'alfa' , 'beta_error', 'precision_sbf' ,\n",
    "                                          'recall_sbf' , 'precision_bf_full' , 'recall_bf_full' ])\n",
    "\n"
   ]
  },
  {
   "cell_type": "code",
   "execution_count": null,
   "metadata": {},
   "outputs": [],
   "source": [
    "from sklearn.metrics import recall_score, precision_score, f1_score\n",
    ">>> y_true = [0, 1, 2, 0, 1, 2]\n",
    ">>> y_pred = [0, 2, 1, 0, 0, 1]\n",
    "\n",
    "recall_score(y_true, y_pred, average='macro')"
   ]
  },
  {
   "cell_type": "markdown",
   "metadata": {},
   "source": [
    "salvando os resultados finais"
   ]
  },
  {
   "cell_type": "code",
   "execution_count": 223,
   "metadata": {
    "pycharm": {
     "is_executing": true
    }
   },
   "outputs": [],
   "source": [
    "# final_result = calculate_precision_recall(x_final, gs_dict, 'dblp_acm')\n",
    "# final_result['f1_bf_full'] = 2 * ((final_result['precision_bf_full'] * final_result['recall_bf_full']) / (final_result['precision_bf_full'] + final_result['recall_bf_full']))\n",
    "# final_result['f1_sbf'] = 2 * ((final_result['precision_sbf'] * final_result['recall_sbf']) / (final_result['precision_sbf'] + final_result['recall_sbf']))\n",
    "# final_result['ls'] = (final_result.bf_len / final_result.sbf_splits) / final_result.bf_len\n",
    "# final_result.to_csv(getbase_dir(['results', 'abel_01']) + 'dblp_acm_final_result_'+v+'.csv')"
   ]
  },
  {
   "cell_type": "code",
   "execution_count": 20,
   "metadata": {},
   "outputs": [],
   "source": [
    "v = 'alfa5e'\n",
    "x_final = pd.read_csv(getbase_dir(['results', 'abel_output']) + 'dblp-acm'+'_'+v+'.csv', sep=',')"
   ]
  },
  {
   "cell_type": "code",
   "execution_count": 21,
   "metadata": {},
   "outputs": [
    {
     "data": {
      "text/plain": [
       "array([False])"
      ]
     },
     "execution_count": 21,
     "metadata": {},
     "output_type": "execute_result"
    }
   ],
   "source": [
    "x_final.gs_stat.unique()"
   ]
  },
  {
   "cell_type": "code",
   "execution_count": 45,
   "metadata": {},
   "outputs": [],
   "source": [
    "v = 'alfa5e'\n",
    "# v = 'allAlfas'\n",
    "for ds in ['MVR','NCVR','yv-er','leipzig_dblp_acm']:\n",
    "    lds = ds\n",
    "    if ds in ['MVR','NCVR']:\n",
    "        lds = ds.lower()\n",
    "    if ds == 'leipzig_dblp_acm':\n",
    "        lds = 'dblp-acm'\n",
    "\n",
    "    chunks = np.array_split(similarity[similarity.ds == lds], 8)\n",
    "\n",
    "    if lds == 'dblp-acm':\n",
    "        lsep=','\n",
    "    else:\n",
    "        lsep=';'\n",
    "        \n",
    "    gs = pd.read_csv(getbase_dir(['Datasets', ds , ]) + 'gold.csv', sep=lsep)\n",
    "    gs_dict = {}\n",
    "    for indexa, row in gs.iterrows():\n",
    "        gs_dict[str(row[0])+str(row[1])] = True\n",
    "        \n",
    "       \n",
    "    x_final = pd.read_csv(getbase_dir(['results', 'abel_output']) + lds+'_'+v+'.csv', sep=',')\n",
    "    final_result = calculate_precision_recall(x_final, gs_dict, lds)\n",
    "    final_result['f1_bf_full'] = 2 * ((final_result['precision_bf_full'] * final_result['recall_bf_full']) / (final_result['precision_bf_full'] + final_result['recall_bf_full']))\n",
    "    final_result['f1_sbf'] = 2 * ((final_result['precision_sbf'] * final_result['recall_sbf']) / (final_result['precision_sbf'] + final_result['recall_sbf']))\n",
    "    final_result['ls'] = (final_result.bf_len / final_result.sbf_splits) / final_result.bf_len\n",
    "    final_result.to_csv(getbase_dir(['results', 'abel_quality_results']) + lds +'_final_result_'+v+'.csv')\n",
    "    "
   ]
  },
  {
   "cell_type": "markdown",
   "metadata": {},
   "source": [
    "# Graficos"
   ]
  },
  {
   "cell_type": "markdown",
   "metadata": {},
   "source": [
    "### carregandos os dados"
   ]
  },
  {
   "cell_type": "code",
   "execution_count": 48,
   "metadata": {
    "pycharm": {
     "is_executing": true
    }
   },
   "outputs": [],
   "source": [
    "# v = 'b1' #old computado errado\n",
    "# v = 'alfa5'\n",
    "v = 'alfa5e'\n",
    "\n",
    "ds = 'mvr'\n",
    "rf = ds+'_final_result_'+v+'.csv'\n",
    "xf = ds+'_'+v+'.csv'\n",
    "\n",
    "x_final = pd.read_csv(getbase_dir(['results', 'abel_output']) + xf)\n",
    "final_result = pd.read_csv(getbase_dir(['results', 'abel_quality_results']) + rf)"
   ]
  },
  {
   "cell_type": "code",
   "execution_count": 240,
   "metadata": {},
   "outputs": [],
   "source": [
    "# final_result = calculate_precision_recall(x_final,gs_dict,'dblp-acm')\n",
    "# final_result['f1_bf_full'] = 2 * ((final_result['precision_bf_full'] * final_result['recall_bf_full']) / (final_result['precision_bf_full'] + final_result['recall_bf_full']))\n",
    "# final_result['f1_sbf'] = 2 * ((final_result['precision_sbf'] * final_result['recall_sbf']) / (final_result['precision_sbf'] + final_result['recall_sbf']))\n",
    "# final_result['ls'] = (final_result.bf_len / final_result.sbf_splits) / final_result.bf_len"
   ]
  },
  {
   "cell_type": "code",
   "execution_count": 49,
   "metadata": {},
   "outputs": [
    {
     "data": {
      "text/html": [
       "<div>\n",
       "<style scoped>\n",
       "    .dataframe tbody tr th:only-of-type {\n",
       "        vertical-align: middle;\n",
       "    }\n",
       "\n",
       "    .dataframe tbody tr th {\n",
       "        vertical-align: top;\n",
       "    }\n",
       "\n",
       "    .dataframe thead th {\n",
       "        text-align: right;\n",
       "    }\n",
       "</style>\n",
       "<table border=\"1\" class=\"dataframe\">\n",
       "  <thead>\n",
       "    <tr style=\"text-align: right;\">\n",
       "      <th></th>\n",
       "      <th>Unnamed: 0</th>\n",
       "      <th>ds_name</th>\n",
       "      <th>sbf_splits</th>\n",
       "      <th>bf_len</th>\n",
       "      <th>alfa</th>\n",
       "      <th>beta_error</th>\n",
       "      <th>precision_sbf</th>\n",
       "      <th>recall_sbf</th>\n",
       "      <th>precision_bf_full</th>\n",
       "      <th>recall_bf_full</th>\n",
       "      <th>f1_bf_full</th>\n",
       "      <th>f1_sbf</th>\n",
       "      <th>ls</th>\n",
       "    </tr>\n",
       "  </thead>\n",
       "  <tbody>\n",
       "    <tr>\n",
       "      <th>0</th>\n",
       "      <td>0</td>\n",
       "      <td>mvr</td>\n",
       "      <td>8</td>\n",
       "      <td>1024</td>\n",
       "      <td>0.5</td>\n",
       "      <td>0.001</td>\n",
       "      <td>0.909091</td>\n",
       "      <td>1.00</td>\n",
       "      <td>0.892857</td>\n",
       "      <td>1.0</td>\n",
       "      <td>0.943396</td>\n",
       "      <td>0.952381</td>\n",
       "      <td>0.125000</td>\n",
       "    </tr>\n",
       "    <tr>\n",
       "      <th>1</th>\n",
       "      <td>1</td>\n",
       "      <td>mvr</td>\n",
       "      <td>16</td>\n",
       "      <td>1024</td>\n",
       "      <td>0.5</td>\n",
       "      <td>0.001</td>\n",
       "      <td>0.943396</td>\n",
       "      <td>1.00</td>\n",
       "      <td>0.892857</td>\n",
       "      <td>1.0</td>\n",
       "      <td>0.943396</td>\n",
       "      <td>0.970874</td>\n",
       "      <td>0.062500</td>\n",
       "    </tr>\n",
       "    <tr>\n",
       "      <th>2</th>\n",
       "      <td>2</td>\n",
       "      <td>mvr</td>\n",
       "      <td>32</td>\n",
       "      <td>1024</td>\n",
       "      <td>0.5</td>\n",
       "      <td>0.001</td>\n",
       "      <td>0.941176</td>\n",
       "      <td>0.96</td>\n",
       "      <td>0.892857</td>\n",
       "      <td>1.0</td>\n",
       "      <td>0.943396</td>\n",
       "      <td>0.950495</td>\n",
       "      <td>0.031250</td>\n",
       "    </tr>\n",
       "    <tr>\n",
       "      <th>3</th>\n",
       "      <td>3</td>\n",
       "      <td>mvr</td>\n",
       "      <td>64</td>\n",
       "      <td>1024</td>\n",
       "      <td>0.5</td>\n",
       "      <td>0.001</td>\n",
       "      <td>0.931818</td>\n",
       "      <td>0.82</td>\n",
       "      <td>0.892857</td>\n",
       "      <td>1.0</td>\n",
       "      <td>0.943396</td>\n",
       "      <td>0.872340</td>\n",
       "      <td>0.015625</td>\n",
       "    </tr>\n",
       "    <tr>\n",
       "      <th>4</th>\n",
       "      <td>4</td>\n",
       "      <td>mvr</td>\n",
       "      <td>128</td>\n",
       "      <td>1024</td>\n",
       "      <td>0.5</td>\n",
       "      <td>0.001</td>\n",
       "      <td>1.000000</td>\n",
       "      <td>0.44</td>\n",
       "      <td>0.892857</td>\n",
       "      <td>1.0</td>\n",
       "      <td>0.943396</td>\n",
       "      <td>0.611111</td>\n",
       "      <td>0.007812</td>\n",
       "    </tr>\n",
       "    <tr>\n",
       "      <th>5</th>\n",
       "      <td>5</td>\n",
       "      <td>mvr</td>\n",
       "      <td>8</td>\n",
       "      <td>1024</td>\n",
       "      <td>0.5</td>\n",
       "      <td>0.010</td>\n",
       "      <td>0.909091</td>\n",
       "      <td>1.00</td>\n",
       "      <td>0.892857</td>\n",
       "      <td>1.0</td>\n",
       "      <td>0.943396</td>\n",
       "      <td>0.952381</td>\n",
       "      <td>0.125000</td>\n",
       "    </tr>\n",
       "    <tr>\n",
       "      <th>6</th>\n",
       "      <td>6</td>\n",
       "      <td>mvr</td>\n",
       "      <td>16</td>\n",
       "      <td>1024</td>\n",
       "      <td>0.5</td>\n",
       "      <td>0.010</td>\n",
       "      <td>0.943396</td>\n",
       "      <td>1.00</td>\n",
       "      <td>0.892857</td>\n",
       "      <td>1.0</td>\n",
       "      <td>0.943396</td>\n",
       "      <td>0.970874</td>\n",
       "      <td>0.062500</td>\n",
       "    </tr>\n",
       "    <tr>\n",
       "      <th>7</th>\n",
       "      <td>7</td>\n",
       "      <td>mvr</td>\n",
       "      <td>32</td>\n",
       "      <td>1024</td>\n",
       "      <td>0.5</td>\n",
       "      <td>0.010</td>\n",
       "      <td>0.941176</td>\n",
       "      <td>0.96</td>\n",
       "      <td>0.892857</td>\n",
       "      <td>1.0</td>\n",
       "      <td>0.943396</td>\n",
       "      <td>0.950495</td>\n",
       "      <td>0.031250</td>\n",
       "    </tr>\n",
       "    <tr>\n",
       "      <th>8</th>\n",
       "      <td>8</td>\n",
       "      <td>mvr</td>\n",
       "      <td>64</td>\n",
       "      <td>1024</td>\n",
       "      <td>0.5</td>\n",
       "      <td>0.010</td>\n",
       "      <td>0.931818</td>\n",
       "      <td>0.82</td>\n",
       "      <td>0.892857</td>\n",
       "      <td>1.0</td>\n",
       "      <td>0.943396</td>\n",
       "      <td>0.872340</td>\n",
       "      <td>0.015625</td>\n",
       "    </tr>\n",
       "    <tr>\n",
       "      <th>9</th>\n",
       "      <td>9</td>\n",
       "      <td>mvr</td>\n",
       "      <td>128</td>\n",
       "      <td>1024</td>\n",
       "      <td>0.5</td>\n",
       "      <td>0.010</td>\n",
       "      <td>1.000000</td>\n",
       "      <td>0.44</td>\n",
       "      <td>0.892857</td>\n",
       "      <td>1.0</td>\n",
       "      <td>0.943396</td>\n",
       "      <td>0.611111</td>\n",
       "      <td>0.007812</td>\n",
       "    </tr>\n",
       "    <tr>\n",
       "      <th>10</th>\n",
       "      <td>10</td>\n",
       "      <td>mvr</td>\n",
       "      <td>8</td>\n",
       "      <td>1024</td>\n",
       "      <td>0.5</td>\n",
       "      <td>0.025</td>\n",
       "      <td>0.909091</td>\n",
       "      <td>1.00</td>\n",
       "      <td>0.892857</td>\n",
       "      <td>1.0</td>\n",
       "      <td>0.943396</td>\n",
       "      <td>0.952381</td>\n",
       "      <td>0.125000</td>\n",
       "    </tr>\n",
       "    <tr>\n",
       "      <th>11</th>\n",
       "      <td>11</td>\n",
       "      <td>mvr</td>\n",
       "      <td>16</td>\n",
       "      <td>1024</td>\n",
       "      <td>0.5</td>\n",
       "      <td>0.025</td>\n",
       "      <td>0.943396</td>\n",
       "      <td>1.00</td>\n",
       "      <td>0.892857</td>\n",
       "      <td>1.0</td>\n",
       "      <td>0.943396</td>\n",
       "      <td>0.970874</td>\n",
       "      <td>0.062500</td>\n",
       "    </tr>\n",
       "    <tr>\n",
       "      <th>12</th>\n",
       "      <td>12</td>\n",
       "      <td>mvr</td>\n",
       "      <td>32</td>\n",
       "      <td>1024</td>\n",
       "      <td>0.5</td>\n",
       "      <td>0.025</td>\n",
       "      <td>0.941176</td>\n",
       "      <td>0.96</td>\n",
       "      <td>0.892857</td>\n",
       "      <td>1.0</td>\n",
       "      <td>0.943396</td>\n",
       "      <td>0.950495</td>\n",
       "      <td>0.031250</td>\n",
       "    </tr>\n",
       "    <tr>\n",
       "      <th>13</th>\n",
       "      <td>13</td>\n",
       "      <td>mvr</td>\n",
       "      <td>64</td>\n",
       "      <td>1024</td>\n",
       "      <td>0.5</td>\n",
       "      <td>0.025</td>\n",
       "      <td>0.931818</td>\n",
       "      <td>0.82</td>\n",
       "      <td>0.892857</td>\n",
       "      <td>1.0</td>\n",
       "      <td>0.943396</td>\n",
       "      <td>0.872340</td>\n",
       "      <td>0.015625</td>\n",
       "    </tr>\n",
       "    <tr>\n",
       "      <th>14</th>\n",
       "      <td>14</td>\n",
       "      <td>mvr</td>\n",
       "      <td>128</td>\n",
       "      <td>1024</td>\n",
       "      <td>0.5</td>\n",
       "      <td>0.025</td>\n",
       "      <td>1.000000</td>\n",
       "      <td>0.44</td>\n",
       "      <td>0.892857</td>\n",
       "      <td>1.0</td>\n",
       "      <td>0.943396</td>\n",
       "      <td>0.611111</td>\n",
       "      <td>0.007812</td>\n",
       "    </tr>\n",
       "    <tr>\n",
       "      <th>15</th>\n",
       "      <td>15</td>\n",
       "      <td>mvr</td>\n",
       "      <td>8</td>\n",
       "      <td>1024</td>\n",
       "      <td>0.5</td>\n",
       "      <td>0.500</td>\n",
       "      <td>0.892857</td>\n",
       "      <td>1.00</td>\n",
       "      <td>0.892857</td>\n",
       "      <td>1.0</td>\n",
       "      <td>0.943396</td>\n",
       "      <td>0.943396</td>\n",
       "      <td>0.125000</td>\n",
       "    </tr>\n",
       "    <tr>\n",
       "      <th>16</th>\n",
       "      <td>16</td>\n",
       "      <td>mvr</td>\n",
       "      <td>16</td>\n",
       "      <td>1024</td>\n",
       "      <td>0.5</td>\n",
       "      <td>0.500</td>\n",
       "      <td>0.892857</td>\n",
       "      <td>1.00</td>\n",
       "      <td>0.892857</td>\n",
       "      <td>1.0</td>\n",
       "      <td>0.943396</td>\n",
       "      <td>0.943396</td>\n",
       "      <td>0.062500</td>\n",
       "    </tr>\n",
       "    <tr>\n",
       "      <th>17</th>\n",
       "      <td>17</td>\n",
       "      <td>mvr</td>\n",
       "      <td>32</td>\n",
       "      <td>1024</td>\n",
       "      <td>0.5</td>\n",
       "      <td>0.500</td>\n",
       "      <td>0.892857</td>\n",
       "      <td>1.00</td>\n",
       "      <td>0.892857</td>\n",
       "      <td>1.0</td>\n",
       "      <td>0.943396</td>\n",
       "      <td>0.943396</td>\n",
       "      <td>0.031250</td>\n",
       "    </tr>\n",
       "    <tr>\n",
       "      <th>18</th>\n",
       "      <td>18</td>\n",
       "      <td>mvr</td>\n",
       "      <td>64</td>\n",
       "      <td>1024</td>\n",
       "      <td>0.5</td>\n",
       "      <td>0.500</td>\n",
       "      <td>0.909091</td>\n",
       "      <td>1.00</td>\n",
       "      <td>0.892857</td>\n",
       "      <td>1.0</td>\n",
       "      <td>0.943396</td>\n",
       "      <td>0.952381</td>\n",
       "      <td>0.015625</td>\n",
       "    </tr>\n",
       "    <tr>\n",
       "      <th>19</th>\n",
       "      <td>19</td>\n",
       "      <td>mvr</td>\n",
       "      <td>128</td>\n",
       "      <td>1024</td>\n",
       "      <td>0.5</td>\n",
       "      <td>0.500</td>\n",
       "      <td>1.000000</td>\n",
       "      <td>1.00</td>\n",
       "      <td>0.892857</td>\n",
       "      <td>1.0</td>\n",
       "      <td>0.943396</td>\n",
       "      <td>1.000000</td>\n",
       "      <td>0.007812</td>\n",
       "    </tr>\n",
       "    <tr>\n",
       "      <th>20</th>\n",
       "      <td>20</td>\n",
       "      <td>mvr</td>\n",
       "      <td>8</td>\n",
       "      <td>1024</td>\n",
       "      <td>0.5</td>\n",
       "      <td>0.150</td>\n",
       "      <td>0.892857</td>\n",
       "      <td>1.00</td>\n",
       "      <td>0.892857</td>\n",
       "      <td>1.0</td>\n",
       "      <td>0.943396</td>\n",
       "      <td>0.943396</td>\n",
       "      <td>0.125000</td>\n",
       "    </tr>\n",
       "    <tr>\n",
       "      <th>21</th>\n",
       "      <td>21</td>\n",
       "      <td>mvr</td>\n",
       "      <td>16</td>\n",
       "      <td>1024</td>\n",
       "      <td>0.5</td>\n",
       "      <td>0.150</td>\n",
       "      <td>0.909091</td>\n",
       "      <td>1.00</td>\n",
       "      <td>0.892857</td>\n",
       "      <td>1.0</td>\n",
       "      <td>0.943396</td>\n",
       "      <td>0.952381</td>\n",
       "      <td>0.062500</td>\n",
       "    </tr>\n",
       "    <tr>\n",
       "      <th>22</th>\n",
       "      <td>22</td>\n",
       "      <td>mvr</td>\n",
       "      <td>32</td>\n",
       "      <td>1024</td>\n",
       "      <td>0.5</td>\n",
       "      <td>0.150</td>\n",
       "      <td>0.941176</td>\n",
       "      <td>0.96</td>\n",
       "      <td>0.892857</td>\n",
       "      <td>1.0</td>\n",
       "      <td>0.943396</td>\n",
       "      <td>0.950495</td>\n",
       "      <td>0.031250</td>\n",
       "    </tr>\n",
       "    <tr>\n",
       "      <th>23</th>\n",
       "      <td>23</td>\n",
       "      <td>mvr</td>\n",
       "      <td>64</td>\n",
       "      <td>1024</td>\n",
       "      <td>0.5</td>\n",
       "      <td>0.150</td>\n",
       "      <td>0.931818</td>\n",
       "      <td>0.82</td>\n",
       "      <td>0.892857</td>\n",
       "      <td>1.0</td>\n",
       "      <td>0.943396</td>\n",
       "      <td>0.872340</td>\n",
       "      <td>0.015625</td>\n",
       "    </tr>\n",
       "    <tr>\n",
       "      <th>24</th>\n",
       "      <td>24</td>\n",
       "      <td>mvr</td>\n",
       "      <td>128</td>\n",
       "      <td>1024</td>\n",
       "      <td>0.5</td>\n",
       "      <td>0.150</td>\n",
       "      <td>1.000000</td>\n",
       "      <td>0.44</td>\n",
       "      <td>0.892857</td>\n",
       "      <td>1.0</td>\n",
       "      <td>0.943396</td>\n",
       "      <td>0.611111</td>\n",
       "      <td>0.007812</td>\n",
       "    </tr>\n",
       "    <tr>\n",
       "      <th>25</th>\n",
       "      <td>25</td>\n",
       "      <td>mvr</td>\n",
       "      <td>8</td>\n",
       "      <td>1024</td>\n",
       "      <td>0.5</td>\n",
       "      <td>0.200</td>\n",
       "      <td>0.892857</td>\n",
       "      <td>1.00</td>\n",
       "      <td>0.892857</td>\n",
       "      <td>1.0</td>\n",
       "      <td>0.943396</td>\n",
       "      <td>0.943396</td>\n",
       "      <td>0.125000</td>\n",
       "    </tr>\n",
       "    <tr>\n",
       "      <th>26</th>\n",
       "      <td>26</td>\n",
       "      <td>mvr</td>\n",
       "      <td>16</td>\n",
       "      <td>1024</td>\n",
       "      <td>0.5</td>\n",
       "      <td>0.200</td>\n",
       "      <td>0.909091</td>\n",
       "      <td>1.00</td>\n",
       "      <td>0.892857</td>\n",
       "      <td>1.0</td>\n",
       "      <td>0.943396</td>\n",
       "      <td>0.952381</td>\n",
       "      <td>0.062500</td>\n",
       "    </tr>\n",
       "    <tr>\n",
       "      <th>27</th>\n",
       "      <td>27</td>\n",
       "      <td>mvr</td>\n",
       "      <td>32</td>\n",
       "      <td>1024</td>\n",
       "      <td>0.5</td>\n",
       "      <td>0.200</td>\n",
       "      <td>0.941176</td>\n",
       "      <td>0.96</td>\n",
       "      <td>0.892857</td>\n",
       "      <td>1.0</td>\n",
       "      <td>0.943396</td>\n",
       "      <td>0.950495</td>\n",
       "      <td>0.031250</td>\n",
       "    </tr>\n",
       "    <tr>\n",
       "      <th>28</th>\n",
       "      <td>28</td>\n",
       "      <td>mvr</td>\n",
       "      <td>64</td>\n",
       "      <td>1024</td>\n",
       "      <td>0.5</td>\n",
       "      <td>0.200</td>\n",
       "      <td>0.911111</td>\n",
       "      <td>0.82</td>\n",
       "      <td>0.892857</td>\n",
       "      <td>1.0</td>\n",
       "      <td>0.943396</td>\n",
       "      <td>0.863158</td>\n",
       "      <td>0.015625</td>\n",
       "    </tr>\n",
       "    <tr>\n",
       "      <th>29</th>\n",
       "      <td>29</td>\n",
       "      <td>mvr</td>\n",
       "      <td>128</td>\n",
       "      <td>1024</td>\n",
       "      <td>0.5</td>\n",
       "      <td>0.200</td>\n",
       "      <td>1.000000</td>\n",
       "      <td>0.44</td>\n",
       "      <td>0.892857</td>\n",
       "      <td>1.0</td>\n",
       "      <td>0.943396</td>\n",
       "      <td>0.611111</td>\n",
       "      <td>0.007812</td>\n",
       "    </tr>\n",
       "    <tr>\n",
       "      <th>30</th>\n",
       "      <td>30</td>\n",
       "      <td>mvr</td>\n",
       "      <td>8</td>\n",
       "      <td>1024</td>\n",
       "      <td>0.5</td>\n",
       "      <td>0.250</td>\n",
       "      <td>0.892857</td>\n",
       "      <td>1.00</td>\n",
       "      <td>0.892857</td>\n",
       "      <td>1.0</td>\n",
       "      <td>0.943396</td>\n",
       "      <td>0.943396</td>\n",
       "      <td>0.125000</td>\n",
       "    </tr>\n",
       "    <tr>\n",
       "      <th>31</th>\n",
       "      <td>31</td>\n",
       "      <td>mvr</td>\n",
       "      <td>16</td>\n",
       "      <td>1024</td>\n",
       "      <td>0.5</td>\n",
       "      <td>0.250</td>\n",
       "      <td>0.892857</td>\n",
       "      <td>1.00</td>\n",
       "      <td>0.892857</td>\n",
       "      <td>1.0</td>\n",
       "      <td>0.943396</td>\n",
       "      <td>0.943396</td>\n",
       "      <td>0.062500</td>\n",
       "    </tr>\n",
       "    <tr>\n",
       "      <th>32</th>\n",
       "      <td>32</td>\n",
       "      <td>mvr</td>\n",
       "      <td>32</td>\n",
       "      <td>1024</td>\n",
       "      <td>0.5</td>\n",
       "      <td>0.250</td>\n",
       "      <td>0.941176</td>\n",
       "      <td>0.96</td>\n",
       "      <td>0.892857</td>\n",
       "      <td>1.0</td>\n",
       "      <td>0.943396</td>\n",
       "      <td>0.950495</td>\n",
       "      <td>0.031250</td>\n",
       "    </tr>\n",
       "    <tr>\n",
       "      <th>33</th>\n",
       "      <td>33</td>\n",
       "      <td>mvr</td>\n",
       "      <td>64</td>\n",
       "      <td>1024</td>\n",
       "      <td>0.5</td>\n",
       "      <td>0.250</td>\n",
       "      <td>0.911111</td>\n",
       "      <td>0.82</td>\n",
       "      <td>0.892857</td>\n",
       "      <td>1.0</td>\n",
       "      <td>0.943396</td>\n",
       "      <td>0.863158</td>\n",
       "      <td>0.015625</td>\n",
       "    </tr>\n",
       "    <tr>\n",
       "      <th>34</th>\n",
       "      <td>34</td>\n",
       "      <td>mvr</td>\n",
       "      <td>128</td>\n",
       "      <td>1024</td>\n",
       "      <td>0.5</td>\n",
       "      <td>0.250</td>\n",
       "      <td>1.000000</td>\n",
       "      <td>0.44</td>\n",
       "      <td>0.892857</td>\n",
       "      <td>1.0</td>\n",
       "      <td>0.943396</td>\n",
       "      <td>0.611111</td>\n",
       "      <td>0.007812</td>\n",
       "    </tr>\n",
       "    <tr>\n",
       "      <th>35</th>\n",
       "      <td>35</td>\n",
       "      <td>mvr</td>\n",
       "      <td>8</td>\n",
       "      <td>1024</td>\n",
       "      <td>0.5</td>\n",
       "      <td>0.300</td>\n",
       "      <td>0.892857</td>\n",
       "      <td>1.00</td>\n",
       "      <td>0.892857</td>\n",
       "      <td>1.0</td>\n",
       "      <td>0.943396</td>\n",
       "      <td>0.943396</td>\n",
       "      <td>0.125000</td>\n",
       "    </tr>\n",
       "    <tr>\n",
       "      <th>36</th>\n",
       "      <td>36</td>\n",
       "      <td>mvr</td>\n",
       "      <td>16</td>\n",
       "      <td>1024</td>\n",
       "      <td>0.5</td>\n",
       "      <td>0.300</td>\n",
       "      <td>0.892857</td>\n",
       "      <td>1.00</td>\n",
       "      <td>0.892857</td>\n",
       "      <td>1.0</td>\n",
       "      <td>0.943396</td>\n",
       "      <td>0.943396</td>\n",
       "      <td>0.062500</td>\n",
       "    </tr>\n",
       "    <tr>\n",
       "      <th>37</th>\n",
       "      <td>37</td>\n",
       "      <td>mvr</td>\n",
       "      <td>32</td>\n",
       "      <td>1024</td>\n",
       "      <td>0.5</td>\n",
       "      <td>0.300</td>\n",
       "      <td>0.923077</td>\n",
       "      <td>0.96</td>\n",
       "      <td>0.892857</td>\n",
       "      <td>1.0</td>\n",
       "      <td>0.943396</td>\n",
       "      <td>0.941176</td>\n",
       "      <td>0.031250</td>\n",
       "    </tr>\n",
       "    <tr>\n",
       "      <th>38</th>\n",
       "      <td>38</td>\n",
       "      <td>mvr</td>\n",
       "      <td>64</td>\n",
       "      <td>1024</td>\n",
       "      <td>0.5</td>\n",
       "      <td>0.300</td>\n",
       "      <td>0.911111</td>\n",
       "      <td>0.82</td>\n",
       "      <td>0.892857</td>\n",
       "      <td>1.0</td>\n",
       "      <td>0.943396</td>\n",
       "      <td>0.863158</td>\n",
       "      <td>0.015625</td>\n",
       "    </tr>\n",
       "    <tr>\n",
       "      <th>39</th>\n",
       "      <td>39</td>\n",
       "      <td>mvr</td>\n",
       "      <td>128</td>\n",
       "      <td>1024</td>\n",
       "      <td>0.5</td>\n",
       "      <td>0.300</td>\n",
       "      <td>1.000000</td>\n",
       "      <td>0.44</td>\n",
       "      <td>0.892857</td>\n",
       "      <td>1.0</td>\n",
       "      <td>0.943396</td>\n",
       "      <td>0.611111</td>\n",
       "      <td>0.007812</td>\n",
       "    </tr>\n",
       "    <tr>\n",
       "      <th>40</th>\n",
       "      <td>40</td>\n",
       "      <td>mvr</td>\n",
       "      <td>8</td>\n",
       "      <td>1024</td>\n",
       "      <td>0.5</td>\n",
       "      <td>0.370</td>\n",
       "      <td>0.892857</td>\n",
       "      <td>1.00</td>\n",
       "      <td>0.892857</td>\n",
       "      <td>1.0</td>\n",
       "      <td>0.943396</td>\n",
       "      <td>0.943396</td>\n",
       "      <td>0.125000</td>\n",
       "    </tr>\n",
       "    <tr>\n",
       "      <th>41</th>\n",
       "      <td>41</td>\n",
       "      <td>mvr</td>\n",
       "      <td>16</td>\n",
       "      <td>1024</td>\n",
       "      <td>0.5</td>\n",
       "      <td>0.370</td>\n",
       "      <td>0.892857</td>\n",
       "      <td>1.00</td>\n",
       "      <td>0.892857</td>\n",
       "      <td>1.0</td>\n",
       "      <td>0.943396</td>\n",
       "      <td>0.943396</td>\n",
       "      <td>0.062500</td>\n",
       "    </tr>\n",
       "    <tr>\n",
       "      <th>42</th>\n",
       "      <td>42</td>\n",
       "      <td>mvr</td>\n",
       "      <td>32</td>\n",
       "      <td>1024</td>\n",
       "      <td>0.5</td>\n",
       "      <td>0.370</td>\n",
       "      <td>0.923077</td>\n",
       "      <td>0.96</td>\n",
       "      <td>0.892857</td>\n",
       "      <td>1.0</td>\n",
       "      <td>0.943396</td>\n",
       "      <td>0.941176</td>\n",
       "      <td>0.031250</td>\n",
       "    </tr>\n",
       "    <tr>\n",
       "      <th>43</th>\n",
       "      <td>43</td>\n",
       "      <td>mvr</td>\n",
       "      <td>64</td>\n",
       "      <td>1024</td>\n",
       "      <td>0.5</td>\n",
       "      <td>0.370</td>\n",
       "      <td>0.911111</td>\n",
       "      <td>0.82</td>\n",
       "      <td>0.892857</td>\n",
       "      <td>1.0</td>\n",
       "      <td>0.943396</td>\n",
       "      <td>0.863158</td>\n",
       "      <td>0.015625</td>\n",
       "    </tr>\n",
       "    <tr>\n",
       "      <th>44</th>\n",
       "      <td>44</td>\n",
       "      <td>mvr</td>\n",
       "      <td>128</td>\n",
       "      <td>1024</td>\n",
       "      <td>0.5</td>\n",
       "      <td>0.370</td>\n",
       "      <td>1.000000</td>\n",
       "      <td>0.44</td>\n",
       "      <td>0.892857</td>\n",
       "      <td>1.0</td>\n",
       "      <td>0.943396</td>\n",
       "      <td>0.611111</td>\n",
       "      <td>0.007812</td>\n",
       "    </tr>\n",
       "  </tbody>\n",
       "</table>\n",
       "</div>"
      ],
      "text/plain": [
       "    Unnamed: 0 ds_name  sbf_splits  bf_len  alfa  beta_error  precision_sbf  \\\n",
       "0            0     mvr           8    1024   0.5       0.001       0.909091   \n",
       "1            1     mvr          16    1024   0.5       0.001       0.943396   \n",
       "2            2     mvr          32    1024   0.5       0.001       0.941176   \n",
       "3            3     mvr          64    1024   0.5       0.001       0.931818   \n",
       "4            4     mvr         128    1024   0.5       0.001       1.000000   \n",
       "5            5     mvr           8    1024   0.5       0.010       0.909091   \n",
       "6            6     mvr          16    1024   0.5       0.010       0.943396   \n",
       "7            7     mvr          32    1024   0.5       0.010       0.941176   \n",
       "8            8     mvr          64    1024   0.5       0.010       0.931818   \n",
       "9            9     mvr         128    1024   0.5       0.010       1.000000   \n",
       "10          10     mvr           8    1024   0.5       0.025       0.909091   \n",
       "11          11     mvr          16    1024   0.5       0.025       0.943396   \n",
       "12          12     mvr          32    1024   0.5       0.025       0.941176   \n",
       "13          13     mvr          64    1024   0.5       0.025       0.931818   \n",
       "14          14     mvr         128    1024   0.5       0.025       1.000000   \n",
       "15          15     mvr           8    1024   0.5       0.500       0.892857   \n",
       "16          16     mvr          16    1024   0.5       0.500       0.892857   \n",
       "17          17     mvr          32    1024   0.5       0.500       0.892857   \n",
       "18          18     mvr          64    1024   0.5       0.500       0.909091   \n",
       "19          19     mvr         128    1024   0.5       0.500       1.000000   \n",
       "20          20     mvr           8    1024   0.5       0.150       0.892857   \n",
       "21          21     mvr          16    1024   0.5       0.150       0.909091   \n",
       "22          22     mvr          32    1024   0.5       0.150       0.941176   \n",
       "23          23     mvr          64    1024   0.5       0.150       0.931818   \n",
       "24          24     mvr         128    1024   0.5       0.150       1.000000   \n",
       "25          25     mvr           8    1024   0.5       0.200       0.892857   \n",
       "26          26     mvr          16    1024   0.5       0.200       0.909091   \n",
       "27          27     mvr          32    1024   0.5       0.200       0.941176   \n",
       "28          28     mvr          64    1024   0.5       0.200       0.911111   \n",
       "29          29     mvr         128    1024   0.5       0.200       1.000000   \n",
       "30          30     mvr           8    1024   0.5       0.250       0.892857   \n",
       "31          31     mvr          16    1024   0.5       0.250       0.892857   \n",
       "32          32     mvr          32    1024   0.5       0.250       0.941176   \n",
       "33          33     mvr          64    1024   0.5       0.250       0.911111   \n",
       "34          34     mvr         128    1024   0.5       0.250       1.000000   \n",
       "35          35     mvr           8    1024   0.5       0.300       0.892857   \n",
       "36          36     mvr          16    1024   0.5       0.300       0.892857   \n",
       "37          37     mvr          32    1024   0.5       0.300       0.923077   \n",
       "38          38     mvr          64    1024   0.5       0.300       0.911111   \n",
       "39          39     mvr         128    1024   0.5       0.300       1.000000   \n",
       "40          40     mvr           8    1024   0.5       0.370       0.892857   \n",
       "41          41     mvr          16    1024   0.5       0.370       0.892857   \n",
       "42          42     mvr          32    1024   0.5       0.370       0.923077   \n",
       "43          43     mvr          64    1024   0.5       0.370       0.911111   \n",
       "44          44     mvr         128    1024   0.5       0.370       1.000000   \n",
       "\n",
       "    recall_sbf  precision_bf_full  recall_bf_full  f1_bf_full    f1_sbf  \\\n",
       "0         1.00           0.892857             1.0    0.943396  0.952381   \n",
       "1         1.00           0.892857             1.0    0.943396  0.970874   \n",
       "2         0.96           0.892857             1.0    0.943396  0.950495   \n",
       "3         0.82           0.892857             1.0    0.943396  0.872340   \n",
       "4         0.44           0.892857             1.0    0.943396  0.611111   \n",
       "5         1.00           0.892857             1.0    0.943396  0.952381   \n",
       "6         1.00           0.892857             1.0    0.943396  0.970874   \n",
       "7         0.96           0.892857             1.0    0.943396  0.950495   \n",
       "8         0.82           0.892857             1.0    0.943396  0.872340   \n",
       "9         0.44           0.892857             1.0    0.943396  0.611111   \n",
       "10        1.00           0.892857             1.0    0.943396  0.952381   \n",
       "11        1.00           0.892857             1.0    0.943396  0.970874   \n",
       "12        0.96           0.892857             1.0    0.943396  0.950495   \n",
       "13        0.82           0.892857             1.0    0.943396  0.872340   \n",
       "14        0.44           0.892857             1.0    0.943396  0.611111   \n",
       "15        1.00           0.892857             1.0    0.943396  0.943396   \n",
       "16        1.00           0.892857             1.0    0.943396  0.943396   \n",
       "17        1.00           0.892857             1.0    0.943396  0.943396   \n",
       "18        1.00           0.892857             1.0    0.943396  0.952381   \n",
       "19        1.00           0.892857             1.0    0.943396  1.000000   \n",
       "20        1.00           0.892857             1.0    0.943396  0.943396   \n",
       "21        1.00           0.892857             1.0    0.943396  0.952381   \n",
       "22        0.96           0.892857             1.0    0.943396  0.950495   \n",
       "23        0.82           0.892857             1.0    0.943396  0.872340   \n",
       "24        0.44           0.892857             1.0    0.943396  0.611111   \n",
       "25        1.00           0.892857             1.0    0.943396  0.943396   \n",
       "26        1.00           0.892857             1.0    0.943396  0.952381   \n",
       "27        0.96           0.892857             1.0    0.943396  0.950495   \n",
       "28        0.82           0.892857             1.0    0.943396  0.863158   \n",
       "29        0.44           0.892857             1.0    0.943396  0.611111   \n",
       "30        1.00           0.892857             1.0    0.943396  0.943396   \n",
       "31        1.00           0.892857             1.0    0.943396  0.943396   \n",
       "32        0.96           0.892857             1.0    0.943396  0.950495   \n",
       "33        0.82           0.892857             1.0    0.943396  0.863158   \n",
       "34        0.44           0.892857             1.0    0.943396  0.611111   \n",
       "35        1.00           0.892857             1.0    0.943396  0.943396   \n",
       "36        1.00           0.892857             1.0    0.943396  0.943396   \n",
       "37        0.96           0.892857             1.0    0.943396  0.941176   \n",
       "38        0.82           0.892857             1.0    0.943396  0.863158   \n",
       "39        0.44           0.892857             1.0    0.943396  0.611111   \n",
       "40        1.00           0.892857             1.0    0.943396  0.943396   \n",
       "41        1.00           0.892857             1.0    0.943396  0.943396   \n",
       "42        0.96           0.892857             1.0    0.943396  0.941176   \n",
       "43        0.82           0.892857             1.0    0.943396  0.863158   \n",
       "44        0.44           0.892857             1.0    0.943396  0.611111   \n",
       "\n",
       "          ls  \n",
       "0   0.125000  \n",
       "1   0.062500  \n",
       "2   0.031250  \n",
       "3   0.015625  \n",
       "4   0.007812  \n",
       "5   0.125000  \n",
       "6   0.062500  \n",
       "7   0.031250  \n",
       "8   0.015625  \n",
       "9   0.007812  \n",
       "10  0.125000  \n",
       "11  0.062500  \n",
       "12  0.031250  \n",
       "13  0.015625  \n",
       "14  0.007812  \n",
       "15  0.125000  \n",
       "16  0.062500  \n",
       "17  0.031250  \n",
       "18  0.015625  \n",
       "19  0.007812  \n",
       "20  0.125000  \n",
       "21  0.062500  \n",
       "22  0.031250  \n",
       "23  0.015625  \n",
       "24  0.007812  \n",
       "25  0.125000  \n",
       "26  0.062500  \n",
       "27  0.031250  \n",
       "28  0.015625  \n",
       "29  0.007812  \n",
       "30  0.125000  \n",
       "31  0.062500  \n",
       "32  0.031250  \n",
       "33  0.015625  \n",
       "34  0.007812  \n",
       "35  0.125000  \n",
       "36  0.062500  \n",
       "37  0.031250  \n",
       "38  0.015625  \n",
       "39  0.007812  \n",
       "40  0.125000  \n",
       "41  0.062500  \n",
       "42  0.031250  \n",
       "43  0.015625  \n",
       "44  0.007812  "
      ]
     },
     "execution_count": 49,
     "metadata": {},
     "output_type": "execute_result"
    }
   ],
   "source": [
    "final_result"
   ]
  },
  {
   "cell_type": "markdown",
   "metadata": {},
   "source": [
    "ajustes nos dados "
   ]
  },
  {
   "cell_type": "code",
   "execution_count": 50,
   "metadata": {
    "pycharm": {
     "is_executing": true
    }
   },
   "outputs": [],
   "source": [
    "final_result = final_result[final_result.sbf_splits != max(final_result.sbf_splits.unique())]"
   ]
  },
  {
   "cell_type": "markdown",
   "metadata": {},
   "source": [
    "### Figura 1"
   ]
  },
  {
   "cell_type": "markdown",
   "metadata": {},
   "source": [
    "Mericas individualizadas"
   ]
  },
  {
   "cell_type": "code",
   "execution_count": 51,
   "metadata": {
    "pycharm": {
     "is_executing": true
    }
   },
   "outputs": [
    {
     "data": {
      "image/png": "[encoded data removed]",
      "text/plain": [
       "<Figure size 576x360 with 1 Axes>"
      ]
     },
     "metadata": {
      "needs_background": "light"
     },
     "output_type": "display_data"
    },
    {
     "data": {
      "text/plain": [
       "<Figure size 432x288 with 0 Axes>"
      ]
     },
     "metadata": {},
     "output_type": "display_data"
    },
    {
     "data": {
      "image/png": "[encoded data removed]",
      "text/plain": [
       "<Figure size 576x360 with 1 Axes>"
      ]
     },
     "metadata": {
      "needs_background": "light"
     },
     "output_type": "display_data"
    },
    {
     "data": {
      "text/plain": [
       "<Figure size 432x288 with 0 Axes>"
      ]
     },
     "metadata": {},
     "output_type": "display_data"
    },
    {
     "data": {
      "image/png": "[encoded data removed]",
      "text/plain": [
       "<Figure size 576x360 with 1 Axes>"
      ]
     },
     "metadata": {
      "needs_background": "light"
     },
     "output_type": "display_data"
    },
    {
     "data": {
      "text/plain": [
       "<Figure size 432x288 with 0 Axes>"
      ]
     },
     "metadata": {},
     "output_type": "display_data"
    }
   ],
   "source": [
    "plot_metric(final_result, metric='f1')\n",
    "plot_metric(final_result,metric='precision')\n",
    "plot_metric(final_result, metric='recall')"
   ]
  },
  {
   "cell_type": "markdown",
   "metadata": {},
   "source": [
    "Todas as metricas"
   ]
  },
  {
   "cell_type": "code",
   "execution_count": 52,
   "metadata": {
    "pycharm": {
     "is_executing": true
    }
   },
   "outputs": [
    {
     "data": {
      "image/png": "[encoded data removed]",
      "text/plain": [
       "<Figure size 864x360 with 3 Axes>"
      ]
     },
     "metadata": {
      "needs_background": "light"
     },
     "output_type": "display_data"
    },
    {
     "ename": "FileNotFoundError",
     "evalue": "[Errno 2] No such file or directory: 'D:\\\\Dados\\\\OneDrive\\\\Doutorado\\\\workspace\\\\bc-playground\\\\results\\\\vldb\\\\plot_all_metrics_considering_alfas_dblp-acm.pdf'",
     "output_type": "error",
     "traceback": [
      "\u001b[1;31m---------------------------------------------------------------------------\u001b[0m",
      "\u001b[1;31mFileNotFoundError\u001b[0m                         Traceback (most recent call last)",
      "\u001b[1;32m<ipython-input-52-7608b4184b8d>\u001b[0m in \u001b[0;36m<module>\u001b[1;34m\u001b[0m\n\u001b[1;32m----> 1\u001b[1;33m \u001b[0mplot_all_metrics\u001b[0m\u001b[1;33m(\u001b[0m\u001b[0mfinal_result\u001b[0m\u001b[1;33m)\u001b[0m\u001b[1;33m\u001b[0m\u001b[1;33m\u001b[0m\u001b[0m\n\u001b[0m",
      "\u001b[1;32m<ipython-input-5-9c866e60fbb5>\u001b[0m in \u001b[0;36mplot_all_metrics\u001b[1;34m(df, ds, fsize)\u001b[0m\n\u001b[0;32m     79\u001b[0m     \u001b[0mfile\u001b[0m \u001b[1;33m=\u001b[0m \u001b[0mgetbase_dir\u001b[0m\u001b[1;33m(\u001b[0m\u001b[1;33m[\u001b[0m\u001b[1;34m'results'\u001b[0m\u001b[1;33m,\u001b[0m \u001b[1;34m'vldb'\u001b[0m\u001b[1;33m]\u001b[0m\u001b[1;33m)\u001b[0m \u001b[1;33m+\u001b[0m \u001b[1;34m'plot_all_metrics_considering_alfas_'\u001b[0m \u001b[1;33m+\u001b[0m \u001b[0mds\u001b[0m \u001b[1;33m+\u001b[0m \u001b[1;34m'.png'\u001b[0m\u001b[1;33m\u001b[0m\u001b[1;33m\u001b[0m\u001b[0m\n\u001b[0;32m     80\u001b[0m     \u001b[0mfile\u001b[0m \u001b[1;33m=\u001b[0m \u001b[0mgetbase_dir\u001b[0m\u001b[1;33m(\u001b[0m\u001b[1;33m[\u001b[0m\u001b[1;34m'results'\u001b[0m\u001b[1;33m,\u001b[0m \u001b[1;34m'vldb'\u001b[0m\u001b[1;33m]\u001b[0m\u001b[1;33m)\u001b[0m \u001b[1;33m+\u001b[0m \u001b[1;34m'plot_all_metrics_considering_alfas_'\u001b[0m \u001b[1;33m+\u001b[0m \u001b[0mds\u001b[0m \u001b[1;33m+\u001b[0m \u001b[1;34m'.pdf'\u001b[0m\u001b[1;33m\u001b[0m\u001b[1;33m\u001b[0m\u001b[0m\n\u001b[1;32m---> 81\u001b[1;33m     \u001b[0mfig\u001b[0m\u001b[1;33m.\u001b[0m\u001b[0msavefig\u001b[0m\u001b[1;33m(\u001b[0m\u001b[0mfile\u001b[0m\u001b[1;33m,\u001b[0m \u001b[0mdpi\u001b[0m\u001b[1;33m=\u001b[0m\u001b[1;36m300\u001b[0m\u001b[1;33m)\u001b[0m\u001b[1;33m\u001b[0m\u001b[1;33m\u001b[0m\u001b[0m\n\u001b[0m",
      "\u001b[1;32mD:\\Programas\\Anaconda3\\envs\\utils\\lib\\site-packages\\matplotlib\\figure.py\u001b[0m in \u001b[0;36msavefig\u001b[1;34m(self, fname, transparent, **kwargs)\u001b[0m\n\u001b[0;32m   2178\u001b[0m             \u001b[0mself\u001b[0m\u001b[1;33m.\u001b[0m\u001b[0mpatch\u001b[0m\u001b[1;33m.\u001b[0m\u001b[0mset_visible\u001b[0m\u001b[1;33m(\u001b[0m\u001b[0mframeon\u001b[0m\u001b[1;33m)\u001b[0m\u001b[1;33m\u001b[0m\u001b[1;33m\u001b[0m\u001b[0m\n\u001b[0;32m   2179\u001b[0m \u001b[1;33m\u001b[0m\u001b[0m\n\u001b[1;32m-> 2180\u001b[1;33m         \u001b[0mself\u001b[0m\u001b[1;33m.\u001b[0m\u001b[0mcanvas\u001b[0m\u001b[1;33m.\u001b[0m\u001b[0mprint_figure\u001b[0m\u001b[1;33m(\u001b[0m\u001b[0mfname\u001b[0m\u001b[1;33m,\u001b[0m \u001b[1;33m**\u001b[0m\u001b[0mkwargs\u001b[0m\u001b[1;33m)\u001b[0m\u001b[1;33m\u001b[0m\u001b[1;33m\u001b[0m\u001b[0m\n\u001b[0m\u001b[0;32m   2181\u001b[0m \u001b[1;33m\u001b[0m\u001b[0m\n\u001b[0;32m   2182\u001b[0m         \u001b[1;32mif\u001b[0m \u001b[0mframeon\u001b[0m\u001b[1;33m:\u001b[0m\u001b[1;33m\u001b[0m\u001b[1;33m\u001b[0m\u001b[0m\n",
      "\u001b[1;32mD:\\Programas\\Anaconda3\\envs\\utils\\lib\\site-packages\\matplotlib\\backend_bases.py\u001b[0m in \u001b[0;36mprint_figure\u001b[1;34m(self, filename, dpi, facecolor, edgecolor, orientation, format, bbox_inches, **kwargs)\u001b[0m\n\u001b[0;32m   2089\u001b[0m                     \u001b[0morientation\u001b[0m\u001b[1;33m=\u001b[0m\u001b[0morientation\u001b[0m\u001b[1;33m,\u001b[0m\u001b[1;33m\u001b[0m\u001b[1;33m\u001b[0m\u001b[0m\n\u001b[0;32m   2090\u001b[0m                     \u001b[0mbbox_inches_restore\u001b[0m\u001b[1;33m=\u001b[0m\u001b[0m_bbox_inches_restore\u001b[0m\u001b[1;33m,\u001b[0m\u001b[1;33m\u001b[0m\u001b[1;33m\u001b[0m\u001b[0m\n\u001b[1;32m-> 2091\u001b[1;33m                     **kwargs)\n\u001b[0m\u001b[0;32m   2092\u001b[0m             \u001b[1;32mfinally\u001b[0m\u001b[1;33m:\u001b[0m\u001b[1;33m\u001b[0m\u001b[1;33m\u001b[0m\u001b[0m\n\u001b[0;32m   2093\u001b[0m                 \u001b[1;32mif\u001b[0m \u001b[0mbbox_inches\u001b[0m \u001b[1;32mand\u001b[0m \u001b[0mrestore_bbox\u001b[0m\u001b[1;33m:\u001b[0m\u001b[1;33m\u001b[0m\u001b[1;33m\u001b[0m\u001b[0m\n",
      "\u001b[1;32mD:\\Programas\\Anaconda3\\envs\\utils\\lib\\site-packages\\matplotlib\\backends\\backend_pdf.py\u001b[0m in \u001b[0;36mprint_pdf\u001b[1;34m(self, filename, dpi, bbox_inches_restore, metadata, **kwargs)\u001b[0m\n\u001b[0;32m   2494\u001b[0m             \u001b[0mfile\u001b[0m \u001b[1;33m=\u001b[0m \u001b[0mfilename\u001b[0m\u001b[1;33m.\u001b[0m\u001b[0m_file\u001b[0m\u001b[1;33m\u001b[0m\u001b[1;33m\u001b[0m\u001b[0m\n\u001b[0;32m   2495\u001b[0m         \u001b[1;32melse\u001b[0m\u001b[1;33m:\u001b[0m\u001b[1;33m\u001b[0m\u001b[1;33m\u001b[0m\u001b[0m\n\u001b[1;32m-> 2496\u001b[1;33m             \u001b[0mfile\u001b[0m \u001b[1;33m=\u001b[0m \u001b[0mPdfFile\u001b[0m\u001b[1;33m(\u001b[0m\u001b[0mfilename\u001b[0m\u001b[1;33m,\u001b[0m \u001b[0mmetadata\u001b[0m\u001b[1;33m=\u001b[0m\u001b[0mmetadata\u001b[0m\u001b[1;33m)\u001b[0m\u001b[1;33m\u001b[0m\u001b[1;33m\u001b[0m\u001b[0m\n\u001b[0m\u001b[0;32m   2497\u001b[0m         \u001b[1;32mtry\u001b[0m\u001b[1;33m:\u001b[0m\u001b[1;33m\u001b[0m\u001b[1;33m\u001b[0m\u001b[0m\n\u001b[0;32m   2498\u001b[0m             \u001b[0mfile\u001b[0m\u001b[1;33m.\u001b[0m\u001b[0mnewPage\u001b[0m\u001b[1;33m(\u001b[0m\u001b[0mwidth\u001b[0m\u001b[1;33m,\u001b[0m \u001b[0mheight\u001b[0m\u001b[1;33m)\u001b[0m\u001b[1;33m\u001b[0m\u001b[1;33m\u001b[0m\u001b[0m\n",
      "\u001b[1;32mD:\\Programas\\Anaconda3\\envs\\utils\\lib\\site-packages\\matplotlib\\backends\\backend_pdf.py\u001b[0m in \u001b[0;36m__init__\u001b[1;34m(self, filename, metadata)\u001b[0m\n\u001b[0;32m    430\u001b[0m         \u001b[0mself\u001b[0m\u001b[1;33m.\u001b[0m\u001b[0moriginal_file_like\u001b[0m \u001b[1;33m=\u001b[0m \u001b[1;32mNone\u001b[0m\u001b[1;33m\u001b[0m\u001b[1;33m\u001b[0m\u001b[0m\n\u001b[0;32m    431\u001b[0m         \u001b[0mself\u001b[0m\u001b[1;33m.\u001b[0m\u001b[0mtell_base\u001b[0m \u001b[1;33m=\u001b[0m \u001b[1;36m0\u001b[0m\u001b[1;33m\u001b[0m\u001b[1;33m\u001b[0m\u001b[0m\n\u001b[1;32m--> 432\u001b[1;33m         \u001b[0mfh\u001b[0m\u001b[1;33m,\u001b[0m \u001b[0mopened\u001b[0m \u001b[1;33m=\u001b[0m \u001b[0mcbook\u001b[0m\u001b[1;33m.\u001b[0m\u001b[0mto_filehandle\u001b[0m\u001b[1;33m(\u001b[0m\u001b[0mfilename\u001b[0m\u001b[1;33m,\u001b[0m \u001b[1;34m\"wb\"\u001b[0m\u001b[1;33m,\u001b[0m \u001b[0mreturn_opened\u001b[0m\u001b[1;33m=\u001b[0m\u001b[1;32mTrue\u001b[0m\u001b[1;33m)\u001b[0m\u001b[1;33m\u001b[0m\u001b[1;33m\u001b[0m\u001b[0m\n\u001b[0m\u001b[0;32m    433\u001b[0m         \u001b[1;32mif\u001b[0m \u001b[1;32mnot\u001b[0m \u001b[0mopened\u001b[0m\u001b[1;33m:\u001b[0m\u001b[1;33m\u001b[0m\u001b[1;33m\u001b[0m\u001b[0m\n\u001b[0;32m    434\u001b[0m             \u001b[1;32mtry\u001b[0m\u001b[1;33m:\u001b[0m\u001b[1;33m\u001b[0m\u001b[1;33m\u001b[0m\u001b[0m\n",
      "\u001b[1;32mD:\\Programas\\Anaconda3\\envs\\utils\\lib\\site-packages\\matplotlib\\cbook\\__init__.py\u001b[0m in \u001b[0;36mto_filehandle\u001b[1;34m(fname, flag, return_opened, encoding)\u001b[0m\n\u001b[0;32m    430\u001b[0m             \u001b[0mfh\u001b[0m \u001b[1;33m=\u001b[0m \u001b[0mbz2\u001b[0m\u001b[1;33m.\u001b[0m\u001b[0mBZ2File\u001b[0m\u001b[1;33m(\u001b[0m\u001b[0mfname\u001b[0m\u001b[1;33m,\u001b[0m \u001b[0mflag\u001b[0m\u001b[1;33m)\u001b[0m\u001b[1;33m\u001b[0m\u001b[1;33m\u001b[0m\u001b[0m\n\u001b[0;32m    431\u001b[0m         \u001b[1;32melse\u001b[0m\u001b[1;33m:\u001b[0m\u001b[1;33m\u001b[0m\u001b[1;33m\u001b[0m\u001b[0m\n\u001b[1;32m--> 432\u001b[1;33m             \u001b[0mfh\u001b[0m \u001b[1;33m=\u001b[0m \u001b[0mopen\u001b[0m\u001b[1;33m(\u001b[0m\u001b[0mfname\u001b[0m\u001b[1;33m,\u001b[0m \u001b[0mflag\u001b[0m\u001b[1;33m,\u001b[0m \u001b[0mencoding\u001b[0m\u001b[1;33m=\u001b[0m\u001b[0mencoding\u001b[0m\u001b[1;33m)\u001b[0m\u001b[1;33m\u001b[0m\u001b[1;33m\u001b[0m\u001b[0m\n\u001b[0m\u001b[0;32m    433\u001b[0m         \u001b[0mopened\u001b[0m \u001b[1;33m=\u001b[0m \u001b[1;32mTrue\u001b[0m\u001b[1;33m\u001b[0m\u001b[1;33m\u001b[0m\u001b[0m\n\u001b[0;32m    434\u001b[0m     \u001b[1;32melif\u001b[0m \u001b[0mhasattr\u001b[0m\u001b[1;33m(\u001b[0m\u001b[0mfname\u001b[0m\u001b[1;33m,\u001b[0m \u001b[1;34m'seek'\u001b[0m\u001b[1;33m)\u001b[0m\u001b[1;33m:\u001b[0m\u001b[1;33m\u001b[0m\u001b[1;33m\u001b[0m\u001b[0m\n",
      "\u001b[1;31mFileNotFoundError\u001b[0m: [Errno 2] No such file or directory: 'D:\\\\Dados\\\\OneDrive\\\\Doutorado\\\\workspace\\\\bc-playground\\\\results\\\\vldb\\\\plot_all_metrics_considering_alfas_dblp-acm.pdf'"
     ]
    },
    {
     "data": {
      "text/plain": [
       "<Figure size 432x288 with 0 Axes>"
      ]
     },
     "metadata": {},
     "output_type": "display_data"
    }
   ],
   "source": [
    "plot_all_metrics(final_result)"
   ]
  },
  {
   "cell_type": "code",
   "execution_count": 39,
   "metadata": {},
   "outputs": [],
   "source": [
    "def plot_all_metrics_vertical(df,ds='dblp-acm',fsize=(8, 12)):\n",
    "    \"\"\"\n",
    "\n",
    "    :param df:\n",
    "    :param metric: recall, precision and f1 (default)\n",
    "    :return:\n",
    "    \"\"\"\n",
    "\n",
    "    fig, axs = plt.subplots(3,1,figsize=fsize)\n",
    "    metrics = ['f1','precision', 'recall']\n",
    "    for i in range(0, len(axs)):\n",
    "        ax = axs[i]\n",
    "        metric = metrics[i]\n",
    "        sns.barplot(data=df, x='alfa', y=metrics[i] + '_sbf',\n",
    "                    capsize=.1, color='skyblue', alpha=0.8 ,\n",
    "                    ax=ax)\n",
    "        # sns.barplot(data=df, x='alfa', y=metrics[i] + '_sbf',\n",
    "        #             capsize=.2, ax=ax)\n",
    "\n",
    "        if metric == 'f1':\n",
    "            m = metric.upper()\n",
    "        else:\n",
    "            m = metric\n",
    "        ax.set_title(m)\n",
    "\n",
    "        y = []\n",
    "        for x in df.alfa.unique():\n",
    "            y.append(df[df.alfa == x][metrics[i] + '_bf_full'].mean())\n",
    "\n",
    "        ax.plot(ax.get_xticks(), y, color='red',\n",
    "                linestyle='--', linewidth=2, label='full_bf')\n",
    "        ax.grid('on')\n",
    "        ax.set_ylabel(\"\")\n",
    "        ax.set_xlabel(r'$\\alpha$')\n",
    "\n",
    "    plt.tight_layout()\n",
    "    plt.show()\n",
    "    plt.close()\n",
    "    plt.clf()\n",
    "#     file = getbase_dir(['results', 'abel_01']) + 'plot_all_metrics_considering_alfas_' + ds + '.png'\n",
    "    file = getbase_dir(['results', 'vldb']) + 'plot_all_metrics_considering_alfas_' + ds + '.png'\n",
    "    file = getbase_dir(['results', 'vldb']) + 'plot_all_metrics_considering_alfas_' + ds + '.pdf'\n",
    "    fig.savefig(file, dpi=300)"
   ]
  },
  {
   "cell_type": "code",
   "execution_count": 40,
   "metadata": {},
   "outputs": [
    {
     "data": {
      "image/png": "[encoded data removed]",
      "text/plain": [
       "<Figure size 288x576 with 3 Axes>"
      ]
     },
     "metadata": {
      "needs_background": "light"
     },
     "output_type": "display_data"
    },
    {
     "data": {
      "text/plain": [
       "<Figure size 432x288 with 0 Axes>"
      ]
     },
     "metadata": {},
     "output_type": "display_data"
    }
   ],
   "source": [
    "plot_all_metrics_vertical(final_result,fsize=(4,8))"
   ]
  },
  {
   "cell_type": "markdown",
   "metadata": {},
   "source": [
    "teste estatiscos da figura 1"
   ]
  },
  {
   "cell_type": "code",
   "execution_count": 16,
   "metadata": {
    "pycharm": {
     "is_executing": true
    }
   },
   "outputs": [
    {
     "name": "stdout",
     "output_type": "stream",
     "text": [
      "f1\n",
      "Ttest_indResult(statistic=0.490584860448264, pvalue=0.6325680992243987)\n",
      "precision\n",
      "Ttest_indResult(statistic=0.8769431333831554, pvalue=0.3977339639211033)\n",
      "recall\n",
      "Ttest_indResult(statistic=0.09090276712234692, pvalue=0.9290696164534866)\n"
     ]
    }
   ],
   "source": [
    "from scipy.stats import wilcoxon , ttest_ind\n",
    "#  null hypothesis of identical average scores. (< 0.05)\n",
    "for metric in ['f1','precision','recall']:\n",
    "    y_bf = []\n",
    "    y_sbf = []\n",
    "    # metric = 'f1'\n",
    "    for x in final_result.alfa.unique():\n",
    "        y_bf.append(final_result[final_result.alfa == x][metric + '_bf_full'].mean())\n",
    "        y_sbf.append(final_result[final_result.alfa == x][metric + '_sbf'].median())\n",
    "    print(metric)\n",
    "        # print(wilcoxon(final_result[metric + '_bf_full'], final_result[metric + '_bf_full']))\n",
    "    print(ttest_ind(y_bf,y_sbf))"
   ]
  },
  {
   "cell_type": "markdown",
   "metadata": {},
   "source": [
    "### Figura 2"
   ]
  },
  {
   "cell_type": "markdown",
   "metadata": {},
   "source": [
    "#### Metodo da plotagem"
   ]
  },
  {
   "cell_type": "code",
   "execution_count": 9,
   "metadata": {
    "pycharm": {
     "is_executing": true
    }
   },
   "outputs": [],
   "source": [
    "def plot_quality_considering_error(df,limiar,metric='f1'):\n",
    "\n",
    "    ldf = df[df.alfa == limiar].round(3)\n",
    "    ldf.ls = ldf.ls.astype(str) + '%'\n",
    "    # ldf['ls'] = (final_result.bf_len / final_result.sbf_splits) / final_result.bf_len\n",
    "    # ldf.sbf_splits = ldf.sbf_splits.astype(str)\n",
    "    fig, ax = plt.subplots(figsize=(8, 5))\n",
    "    # palette = dict(zip(ldf.sbf_splits.unique(), sns.color_palette()))\n",
    "    # palette.update({\"Total\": \"k\"})\n",
    "    sns.lineplot(data=ldf, x='beta_error', y=metric+'_sbf', hue=\"ls\")\n",
    "    y = []\n",
    "    for x in ax.get_xticks():\n",
    "        y.append(df[metric+'_bf_full'].max())\n",
    "    ax.plot(ax.get_xticks(), y, color='red',\n",
    "            linestyle='--', linewidth=3, label='Sine')\n",
    "    # sns.lineplot(data=ldf, x='beta_error', y='f1_sbf', hue=\"sbf_splits\", palette=palette)\n",
    "    ax.grid(True)\n",
    "    plt.show()\n",
    "    plt.close()\n",
    "    plt.clf()\n",
    "\n",
    "def plot_all_quality_considering_error(df,limiar,ds='dblp-acm',pontos=[],fs=(12, 5.5)):\n",
    "    \"\"\"\n",
    "\n",
    "    :param df:\n",
    "    :param limiar:\n",
    "    :param ds:\n",
    "    :return:\n",
    "    \"\"\"\n",
    "\n",
    "    ldf = df[df.alfa == limiar]\n",
    "\n",
    "    ldf['z'] = df.bf_len / df.sbf_splits\n",
    "    ldf['split_length'] = ldf.ls.round(3).astype(str) + '% '\n",
    "    ldf.split_length = ldf.split_length + '(' +ldf.z.astype(str) + ' bits)'\n",
    "    ldf['beta'] = limiar - ldf.beta_error\n",
    "    # min_x = ldf.beta.min()\n",
    "    # max_x = ldf.beta.max()\n",
    "    min_x = ldf.beta_error.min()\n",
    "    max_x = ldf.beta_error.max()\n",
    "\n",
    "    fig, axs = plt.subplots(figsize=fs, ncols=3)\n",
    "    metrics = ['precision', 'recall','f1']\n",
    "    for i in range(0, len(axs)):\n",
    "        metric = metrics[i]\n",
    "\n",
    "        ax = axs[i]\n",
    "        ax.set_xlim(min_x,max_x)\n",
    "        # ax.set_xlim(max_x,min_x)\n",
    "        ax.set_title(r\"\" +metric + \" $\\\\alpha$ =\"+ str(limiar) )\n",
    "\n",
    "        g = sns.lineplot(data=ldf, x='beta_error', y=metric + '_sbf',\n",
    "                         hue=\"split_length\", ax=ax , linewidth=2)\n",
    "        # g = sns.lineplot(data=ldf, x='beta', y=metric+'_sbf',\n",
    "        #                 hue=\"split_length\", ax=ax)\n",
    "\n",
    "        ax.set_ylabel(\"\")\n",
    "        ax.set_xlabel(\"error \\n $\\\\beta = \\\\alpha - error$\")\n",
    "\n",
    "        y = []\n",
    "        for x in ax.get_xticks():\n",
    "            y.append(ldf[metric+'_bf_full'].mean())\n",
    "\n",
    "        ax.plot(ax.get_xticks(), y, color='red',\n",
    "                linestyle='--', linewidth=2, label='full_bf')\n",
    "\n",
    "        #### errros\n",
    "        if len(pontos) != 0:\n",
    "            if metric != 'f1-':\n",
    "                cores = ['tab:blue', 'tab:orange', 'tab:green', 'tab:red', 'tab:purple', 'tab:brown', 'tab:pink', 'tab:gray', 'tab:olive', 'tab:cyan']\n",
    "                cc = 0\n",
    "                for vx in pontos.round(2).y:\n",
    "                    # ax.axvline(x=vx, linewidth=2, c=c.colors[cc], alpha=0.8)\n",
    "                    ax.axvline(x=vx, linewidth=10, c=cores[cc], alpha=0.2)\n",
    "                    cc+=1\n",
    "            # ax.scatter(pontos.x, pontos.y ,c=pontos.x, #s=scale, label=color,\n",
    "            #         alpha=0.8, edgecolors='none')\n",
    "\n",
    "            # ax.axhline(pontos.y, linewidth=2, c=pontos.x, alpha=0.8)\n",
    "\n",
    "\n",
    "        ax.grid(True)\n",
    "        if i == 1:\n",
    "            g.legend(loc='lower center', bbox_to_anchor= (0.5, -.5) ,\n",
    "                     borderaxespad=0, frameon=False,\n",
    "                     fontsize = 'medium', ncol=3 )\n",
    "        else:\n",
    "            ax.legend(loc='upper center', bbox_to_anchor=(0.5, 1.05), ncol=3, fancybox=True, shadow=True)\n",
    "            ax.get_legend().remove()\n",
    "            # fontsize: int or float or {'xx-small', 'x-small', 'small', 'medium', 'large', 'x-large', 'xx-large'}\n",
    "    plt.tight_layout()\n",
    "    plt.show()\n",
    "    plt.close()\n",
    "    plt.clf()\n",
    "    if len(pontos) == 0:\n",
    "        file = getbase_dir(['results', 'vldb']) + 'plot_all_quality_considering_error_'+ds+'_alfa_'+str(limiar)+'.png'\n",
    "    else:\n",
    "        file = getbase_dir(['results', 'vldb']) + 'plot_all_quality_considering_error_' +ds+ '_alfa_' + str(limiar) + '_width_region.png'\n",
    "    \n",
    "    fig.savefig(file,dpi=300)\n",
    "    file = getbase_dir(['results', 'vldb']) + 'plot_all_quality_considering_error_' +ds+ '_alfa_' + str(limiar) + '_width_region.pdf'\n",
    "    fig.savefig(file)\n",
    "    \n",
    "    \n",
    "# plot_all_quality_considering_error(final_result[final_result.beta_error <= .49], .5 ,pontos=pontos)"
   ]
  },
  {
   "cell_type": "markdown",
   "metadata": {},
   "source": [
    "#### Plotagem"
   ]
  },
  {
   "cell_type": "markdown",
   "metadata": {},
   "source": [
    "Definindo as regiões beta"
   ]
  },
  {
   "cell_type": "code",
   "execution_count": 11,
   "metadata": {
    "pycharm": {
     "is_executing": true
    }
   },
   "outputs": [
    {
     "data": {
      "text/html": [
       "<div>\n",
       "<style scoped>\n",
       "    .dataframe tbody tr th:only-of-type {\n",
       "        vertical-align: middle;\n",
       "    }\n",
       "\n",
       "    .dataframe tbody tr th {\n",
       "        vertical-align: top;\n",
       "    }\n",
       "\n",
       "    .dataframe thead th {\n",
       "        text-align: right;\n",
       "    }\n",
       "</style>\n",
       "<table border=\"1\" class=\"dataframe\">\n",
       "  <thead>\n",
       "    <tr style=\"text-align: right;\">\n",
       "      <th></th>\n",
       "      <th>x</th>\n",
       "      <th>y</th>\n",
       "      <th>z</th>\n",
       "    </tr>\n",
       "  </thead>\n",
       "  <tbody>\n",
       "    <tr>\n",
       "      <th>0</th>\n",
       "      <td>0.125000</td>\n",
       "      <td>0.180617</td>\n",
       "      <td>0.038524</td>\n",
       "    </tr>\n",
       "    <tr>\n",
       "      <th>1</th>\n",
       "      <td>0.062500</td>\n",
       "      <td>0.240823</td>\n",
       "      <td>0.068244</td>\n",
       "    </tr>\n",
       "    <tr>\n",
       "      <th>2</th>\n",
       "      <td>0.031250</td>\n",
       "      <td>0.301029</td>\n",
       "      <td>0.097963</td>\n",
       "    </tr>\n",
       "    <tr>\n",
       "      <th>3</th>\n",
       "      <td>0.015625</td>\n",
       "      <td>0.361235</td>\n",
       "      <td>0.127683</td>\n",
       "    </tr>\n",
       "  </tbody>\n",
       "</table>\n",
       "</div>"
      ],
      "text/plain": [
       "          x         y         z\n",
       "0  0.125000  0.180617  0.038524\n",
       "1  0.062500  0.240823  0.068244\n",
       "2  0.031250  0.301029  0.097963\n",
       "3  0.015625  0.361235  0.127683"
      ]
     },
     "execution_count": 11,
     "metadata": {},
     "output_type": "execute_result"
    }
   ],
   "source": [
    "a = -0.042876301194393125\n",
    "b = 3.2574724870013103\n",
    "\n",
    "fe1 = lambda x, a, b: a * np.log(b * x)\n",
    "mi = fe1(.99999,a,b)\n",
    "ma = fe1(.00001,a,b)\n",
    "#fe1 = lambda x: -np.log(x)\n",
    "#mi = fe1(.9999999999999)\n",
    "#ma = fe1(.0000000000001)\n",
    "\n",
    "normalize = lambda x,min,max:  (x - min) / (max - min)\n",
    "\n",
    "pontos = []\n",
    "for i in final_result.ls.unique():\n",
    "    # print(\"{} & {} & \\\\\\\\\".format(i,fe1(i,a,b)))\n",
    "    #n = normalize(fe1(i), mi, ma)\n",
    "    x = fe1(i,a,b)\n",
    "    n = normalize(x, mi, ma)\n",
    "    \n",
    "    pontos.append([i,n,x])\n",
    "    #print(\"{0:.3f} & {1:.2f} \\\\\\\\\".format(i, n))\n",
    "\n",
    "pontos = pd.DataFrame(pontos,columns=['x','y','z'])\n",
    "pontos"
   ]
  },
  {
   "cell_type": "code",
   "execution_count": null,
   "metadata": {},
   "outputs": [],
   "source": []
  },
  {
   "cell_type": "code",
   "execution_count": null,
   "metadata": {},
   "outputs": [],
   "source": []
  },
  {
   "cell_type": "markdown",
   "metadata": {},
   "source": [
    "#### Resultado"
   ]
  },
  {
   "cell_type": "code",
   "execution_count": 58,
   "metadata": {
    "pycharm": {
     "is_executing": true
    }
   },
   "outputs": [
    {
     "data": {
      "image/png": "[encoded data removed]",
      "text/plain": [
       "<Figure size 1008x360 with 3 Axes>"
      ]
     },
     "metadata": {
      "needs_background": "light"
     },
     "output_type": "display_data"
    },
    {
     "data": {
      "text/plain": [
       "<Figure size 432x288 with 0 Axes>"
      ]
     },
     "metadata": {},
     "output_type": "display_data"
    }
   ],
   "source": [
    "#plot_all_quality_considering_error(final_result, .5 ,pontos=pontos[:-1])\n",
    "#ldf = final_result[final_result.alfa==.5]\n",
    "#plot_all_quality_considering_error(ldf, .5 ,pontos=pontos)\n",
    "plot_all_quality_considering_error(final_result[final_result.beta_error <= .49], .5 ,pontos=pontos ,fs=(14,5))"
   ]
  },
  {
   "cell_type": "markdown",
   "metadata": {},
   "source": [
    "plota o restante dos graficos"
   ]
  },
  {
   "cell_type": "code",
   "execution_count": null,
   "metadata": {
    "pycharm": {
     "is_executing": true
    }
   },
   "outputs": [],
   "source": [
    "plot_all_quality_considering_error(final_result,.4)\n",
    "plot_all_quality_considering_error(final_result, .5)\n",
    "plot_all_quality_considering_error(final_result,.6)\n",
    "plot_all_quality_considering_error(final_result,.7)\n",
    "plot_all_quality_considering_error(final_result,.8)\n",
    "plot_all_quality_considering_error(final_result,.9)"
   ]
  },
  {
   "cell_type": "code",
   "execution_count": 18,
   "metadata": {
    "pycharm": {
     "is_executing": true
    }
   },
   "outputs": [],
   "source": [
    "\n",
    "#df['beta'] = limiar - df.beta_error\n",
    "#x = df[df.abel_1st_s == True].round(3).beta.astype(str)"
   ]
  },
  {
   "cell_type": "code",
   "execution_count": 12,
   "metadata": {},
   "outputs": [],
   "source": [
    "limiar = .5\n",
    "s = 16\n",
    "all_df =  x_final[(x_final.alfa == limiar) & (x_final.beta_error <= .49)]\n",
    "#               &(x_final.sbf_splits == s)\n",
    "#              & (x_final.beta_error <= .49)]\n",
    "\n",
    "x = []\n",
    "y = []\n",
    "h = []\n",
    "for s in all_df.sbf_splits.unique()[:-1]:\n",
    "    \n",
    "    df = all_df[all_df.sbf_splits == s]\n",
    "    \n",
    "    for b in df.beta_error.unique():\n",
    "        x.append(b)\n",
    "        ltotal = len(df[df.beta_error == b])\n",
    "        yl = len(df[(df.beta_error == b) & (df.abel_1st_s == True)])\n",
    "        y.append(yl/ltotal)\n",
    "        h.append(str(s))\n",
    "    del yl\n",
    "    del ltotal"
   ]
  },
  {
   "cell_type": "code",
   "execution_count": 13,
   "metadata": {},
   "outputs": [],
   "source": [
    "pdf = pd.DataFrame({'x':x,'y':y,'cor':h})\n",
    "# pdf['cor'] = pdf.x.astype(str)"
   ]
  },
  {
   "cell_type": "code",
   "execution_count": 14,
   "metadata": {},
   "outputs": [
    {
     "data": {
      "text/html": [
       "<div>\n",
       "<style scoped>\n",
       "    .dataframe tbody tr th:only-of-type {\n",
       "        vertical-align: middle;\n",
       "    }\n",
       "\n",
       "    .dataframe tbody tr th {\n",
       "        vertical-align: top;\n",
       "    }\n",
       "\n",
       "    .dataframe thead th {\n",
       "        text-align: right;\n",
       "    }\n",
       "</style>\n",
       "<table border=\"1\" class=\"dataframe\">\n",
       "  <thead>\n",
       "    <tr style=\"text-align: right;\">\n",
       "      <th></th>\n",
       "      <th>x</th>\n",
       "      <th>y</th>\n",
       "      <th>cor</th>\n",
       "    </tr>\n",
       "  </thead>\n",
       "  <tbody>\n",
       "  </tbody>\n",
       "</table>\n",
       "</div>"
      ],
      "text/plain": [
       "Empty DataFrame\n",
       "Columns: [x, y, cor]\n",
       "Index: []"
      ]
     },
     "execution_count": 14,
     "metadata": {},
     "output_type": "execute_result"
    }
   ],
   "source": [
    "# pdf.cor.unique()\n",
    "pdf[pdf.cor=='128']\n",
    "#pdf[pdf.x == 0.37]\n",
    "# pdf.x.unique()"
   ]
  },
  {
   "cell_type": "code",
   "execution_count": 15,
   "metadata": {},
   "outputs": [
    {
     "name": "stderr",
     "output_type": "stream",
     "text": [
      "D:\\Programas\\Anaconda3\\lib\\site-packages\\matplotlib\\cbook\\__init__.py:2448: UserWarning: Saw kwargs ['lw', 'linewidth'] which are all aliases for 'linewidth'.  Kept value from 'linewidth'\n",
      "  seen=seen, canon=canonical, used=seen[-1]))\n",
      "D:\\Programas\\Anaconda3\\lib\\site-packages\\matplotlib\\cbook\\__init__.py:2448: UserWarning: Saw kwargs ['lw', 'linewidth'] which are all aliases for 'linewidth'.  Kept value from 'linewidth'\n",
      "  seen=seen, canon=canonical, used=seen[-1]))\n",
      "D:\\Programas\\Anaconda3\\lib\\site-packages\\matplotlib\\cbook\\__init__.py:2448: UserWarning: Saw kwargs ['lw', 'linewidth'] which are all aliases for 'linewidth'.  Kept value from 'linewidth'\n",
      "  seen=seen, canon=canonical, used=seen[-1]))\n",
      "D:\\Programas\\Anaconda3\\lib\\site-packages\\matplotlib\\cbook\\__init__.py:2448: UserWarning: Saw kwargs ['lw', 'linewidth'] which are all aliases for 'linewidth'.  Kept value from 'linewidth'\n",
      "  seen=seen, canon=canonical, used=seen[-1]))\n"
     ]
    },
    {
     "data": {
      "image/png": "[encoded data removed]",
      "text/plain": [
       "<Figure size 576x360 with 1 Axes>"
      ]
     },
     "metadata": {
      "needs_background": "light"
     },
     "output_type": "display_data"
    }
   ],
   "source": [
    "fig, ax = plt.subplots(figsize=(8, 5))\n",
    "\n",
    "# sns.lineplot(x=x,y=y,data=df,ax=ax)\n",
    "for i in pdf.cor.unique():\n",
    "    sns.lineplot(x=\"x\",y=\"y\",estimator=None, lw=1 , linewidth=2 ,\n",
    "                 data=pdf[pdf.cor==i],ax=ax)\n",
    "    ax.set_xlim(min(pdf.x),max(pdf.x))\n"
   ]
  },
  {
   "cell_type": "code",
   "execution_count": 20,
   "metadata": {},
   "outputs": [
    {
     "name": "stderr",
     "output_type": "stream",
     "text": [
      "D:\\Programas\\Anaconda3\\lib\\site-packages\\matplotlib\\cbook\\__init__.py:2448: UserWarning: Saw kwargs ['lw', 'linewidth'] which are all aliases for 'linewidth'.  Kept value from 'linewidth'\n",
      "  seen=seen, canon=canonical, used=seen[-1]))\n",
      "D:\\Programas\\Anaconda3\\lib\\site-packages\\matplotlib\\cbook\\__init__.py:2448: UserWarning: Saw kwargs ['lw', 'linewidth'] which are all aliases for 'linewidth'.  Kept value from 'linewidth'\n",
      "  seen=seen, canon=canonical, used=seen[-1]))\n",
      "D:\\Programas\\Anaconda3\\lib\\site-packages\\matplotlib\\cbook\\__init__.py:2448: UserWarning: Saw kwargs ['lw', 'linewidth'] which are all aliases for 'linewidth'.  Kept value from 'linewidth'\n",
      "  seen=seen, canon=canonical, used=seen[-1]))\n",
      "D:\\Programas\\Anaconda3\\lib\\site-packages\\matplotlib\\cbook\\__init__.py:2448: UserWarning: Saw kwargs ['lw', 'linewidth'] which are all aliases for 'linewidth'.  Kept value from 'linewidth'\n",
      "  seen=seen, canon=canonical, used=seen[-1]))\n"
     ]
    },
    {
     "data": {
      "image/png": "[encoded data removed]",
      "text/plain": [
       "<Figure size 360x288 with 1 Axes>"
      ]
     },
     "metadata": {
      "needs_background": "light"
     },
     "output_type": "display_data"
    },
    {
     "data": {
      "text/plain": [
       "<Figure size 432x288 with 0 Axes>"
      ]
     },
     "metadata": {},
     "output_type": "display_data"
    }
   ],
   "source": [
    "fig, ax = plt.subplots(figsize=(5, 4))\n",
    "\n",
    "# sns.lineplot(x=x,y=y,data=df,ax=ax)\n",
    "for i in pdf.cor.unique():\n",
    "    sns.lineplot(x=\"x\",y=\"y\",estimator=None, lw=1 , linewidth=2 ,\n",
    "                 data=pdf[pdf.cor==i],ax=ax)\n",
    "\n",
    "# sns.lineplot(x=\"x\",y=\"y\",\n",
    "#              data=pdf,ax=ax)\n",
    "\n",
    "#ax.set(xlim=(x))\n",
    "ax.set_xlim(min(pdf.x),max(pdf.x))\n",
    "\n",
    "#ax.axvline(x=.3, linewidth=10, c='r', alpha=0.2)\n",
    "cores = ['tab:blue', 'tab:orange', 'tab:green', 'tab:red', 'tab:purple', 'tab:brown', 'tab:pink', 'tab:gray', 'tab:olive', 'tab:cyan']\n",
    "cc = 0\n",
    "for vx in pontos.round(2).y:\n",
    "    ax.axvline(x=vx, linewidth=20, c=cores[cc], alpha=0.2)\n",
    "    cc+=1\n",
    "\n",
    "# g.legend(loc='lower center', bbox_to_anchor= (0.5, -.5) ,\n",
    "#                      borderaxespad=0, frameon=False,\n",
    "#                      fontsize = 'medium', ncol=3 )\n",
    "\n",
    "    \n",
    "# ax.set_title(r\"\" +\"Comparasion\" + \" ($\\\\alpha$ =\"+ str(limiar)+\")\" )\n",
    "ax.set_ylabel(\"reduction rate in %\")\n",
    "ax.set_xlabel(\"error \\n $\\\\beta = \\\\alpha - error$\")\n",
    "\n",
    "ax.grid(True)\n",
    "plt.show()\n",
    "plt.close()\n",
    "plt.clf()\n",
    "file = getbase_dir(['results', 'vldb']) + \"reduction_rate_alfa_05.png\"\n",
    "fig.savefig(file,dpi=300)\n",
    "file = getbase_dir(['results', 'vldb']) + \"reduction_rate_alfa_05.pdf\"\n",
    "fig.savefig(file)\n"
   ]
  },
  {
   "cell_type": "markdown",
   "metadata": {},
   "source": [
    "redução das comparações"
   ]
  },
  {
   "cell_type": "code",
   "execution_count": 16,
   "metadata": {},
   "outputs": [
    {
     "data": {
      "text/plain": [
       "[0.0373954883550949,\n",
       " 0.0373954883550949,\n",
       " 0.037412145588215207,\n",
       " 0.04245928722366899,\n",
       " 0.04415832500194057,\n",
       " 0.045274359621001306,\n",
       " 0.04580739108085121,\n",
       " 0.046173850209498025]"
      ]
     },
     "execution_count": 16,
     "metadata": {},
     "output_type": "execute_result"
    }
   ],
   "source": [
    "n_ds1=2617\n",
    "n_ds2=2294\n",
    "t = n_ds1 * n_ds2\n",
    "\n",
    "x = df.beta_error.unique()\n",
    "y = []\n",
    "for b in x:\n",
    "    ltotal = len(df[df.beta_error == b])\n",
    "    yl = len(df[(df.beta_error == b) & (df.abel_1st_s == True)])\n",
    "    y.append((yl/t)*100)\n",
    "del yl\n",
    "del ltotal\n",
    "y\n"
   ]
  },
  {
   "cell_type": "markdown",
   "metadata": {},
   "source": [
    "# Pre-Scratch"
   ]
  },
  {
   "cell_type": "code",
   "execution_count": 37,
   "metadata": {
    "pycharm": {
     "is_executing": true
    }
   },
   "outputs": [
    {
     "data": {
      "image/png": "[encoded data removed]",
      "text/plain": [
       "<Figure size 576x360 with 1 Axes>"
      ]
     },
     "metadata": {
      "needs_background": "light"
     },
     "output_type": "display_data"
    },
    {
     "data": {
      "text/plain": [
       "<Figure size 432x288 with 0 Axes>"
      ]
     },
     "metadata": {},
     "output_type": "display_data"
    }
   ],
   "source": [
    "n_ds1=2617\n",
    "n_ds2=2294\n",
    "\n",
    "t = n_ds1 * n_ds2\n",
    "df['x'] = df[df.abel_1st_s == True].round(3).beta_error.astype(str)\n",
    "df['y'] = 1 / t\n",
    "df['y'] = 1\n",
    "from matplotlib.ticker import PercentFormatter\n",
    "\n",
    "\n",
    "total = len(df[df.x == '0.33'])\n",
    "\n",
    "fig, ax = plt.subplots(figsize=(8, 5))\n",
    "# g = sns.catplot(x=\"x\", y=\"y\", hue=\"y\", kind=\"bar\", data=df)\n",
    "# for ax in g.axes.flat:\n",
    "#     ax.yaxis.set_major_formatter(PercentFormatter(1))\n",
    "# plt.show()\n",
    "# g = sns.catplot(x=\"x\", kind=\"count\", data=df)\n",
    "\n",
    "g = sns.countplot(x=\"x\", data=df)  # for Seaborn version 0.7 and more\n",
    "for p in g.patches:\n",
    "    height = p.get_height()\n",
    "    ax.text(p.get_x() + p.get_width() / 2.,\n",
    "            height + 3,\n",
    "            '{:1.2f}'.format(height)/total,\n",
    "            ha=\"center\")\n",
    "ax.grid(True)\n",
    "plt.show()\n",
    "plt.close()\n",
    "plt.clf()\n",
    "\n",
    "#file = getbase_dir(['results', 'abel_01']) + 'zzz_05_alfa_' + '.png'\n",
    "#fig.savefig(file, dpi=400)"
   ]
  },
  {
   "cell_type": "markdown",
   "metadata": {},
   "source": [
    "# Scratch"
   ]
  },
  {
   "cell_type": "code",
   "execution_count": null,
   "metadata": {
    "pycharm": {
     "is_executing": true,
     "name": "#%%\n"
    }
   },
   "outputs": [],
   "source": [
    "    # final_result[(final_result.sbf_splits != 128) & (final_result.sbf_splits != 64)\n",
    "\n",
    "    n_ds1=2617\n",
    "    n_ds2=2294\n",
    "\n",
    "    t = n_ds1 * n_ds2\n",
    "    df['x'] = df[df.abel_1st_s == True].round(3).beta.astype(str)\n",
    "    df['y'] = 1 / t\n",
    "    df['y'] = 1\n",
    "    from matplotlib.ticker import PercentFormatter\n",
    "\n",
    "\n",
    "    total = len(df[df.x == '0.33'])\n",
    "\n",
    "    fig, ax = plt.subplots(figsize=(8, 5))\n",
    "    # g = sns.catplot(x=\"x\", y=\"y\", hue=\"y\", kind=\"bar\", data=df)\n",
    "    # for ax in g.axes.flat:\n",
    "    #     ax.yaxis.set_major_formatter(PercentFormatter(1))\n",
    "    # plt.show()\n",
    "    # g = sns.catplot(x=\"x\", kind=\"count\", data=df)\n",
    "\n",
    "    g = sns.countplot(x=\"x\", data=df)  # for Seaborn version 0.7 and more\n",
    "    for p in g.patches:\n",
    "        height = p.get_height()\n",
    "        ax.text(p.get_x() + p.get_width() / 2.,\n",
    "                height + 3,\n",
    "                '{:1.2f}'.format(height / total),\n",
    "                ha=\"center\")\n",
    "    ax.grid(True)\n",
    "    plt.show()\n",
    "    plt.close()\n",
    "    plt.clf()\n",
    "\n",
    "    file = getbase_dir(['results', 'abel_01']) + 'zzz_05_alfa_' + '.png'\n",
    "    fig.savefig(file, dpi=400)\n",
    "\n",
    "\n",
    "\n",
    "##########################################################################\n",
    "### scratch\n",
    "########################################################################\n",
    "def exec_01(n):\n",
    "    import time\n",
    "    start_time = time.time()\n",
    "    ids_a = [640999,190649, 615205, 375780, 375736]\n",
    "    ids_b = ['journals/sigmod/Winslett03','journals/sigmod/Kim94', 'conf/sigmod/BlakeleyD00', 'conf/sigmod/NazeriBO01', 'conf/sigmod/BorkarDS01' ]\n",
    "    for a in ids_a:\n",
    "        for b in ids_b:\n",
    "            print(isTrueMatchOriginal(gs, b, a))\n",
    "    print(time.time() - start_time)\n",
    "\n",
    "\n",
    "print(exec_01(1))\n",
    "\n",
    "gs =  gold_standard_dblp_acm.copy()\n",
    "\n",
    "gs.set_index(['idDBLP', 'ix'])\n",
    "\n",
    "ida = 'journals/sigmod/Winslett03'\n",
    "idb = 640999\n",
    "\n",
    "\n",
    "d = {}\n",
    "for indexa, row in gs.iterrows():\n",
    "    d[str(row[0])+str(row[1])] = True\n",
    "\n",
    "def isTrueMatch2(gs,ida,idb,base_a='idDBLP',base_b='idACM'):\n",
    "    try:\n",
    "        gs[str(ida)+str(idb)]\n",
    "        return True\n",
    "    except KeyError:\n",
    "        print\n",
    "        return False\n",
    "    #     # gs[(gs[base_a] == ida) & (gs[base_b] == idb)]\n",
    "    # if len(z) == 1:\n",
    "    #     return True\n",
    "    #\n",
    "    # return False"
   ]
  },
  {
   "cell_type": "code",
   "execution_count": null,
   "metadata": {
    "pycharm": {
     "is_executing": true
    }
   },
   "outputs": [],
   "source": []
  },
  {
   "cell_type": "code",
   "execution_count": null,
   "metadata": {
    "pycharm": {
     "is_executing": true
    }
   },
   "outputs": [],
   "source": []
  }
 ],
 "metadata": {
  "kernelspec": {
   "display_name": "Python 3",
   "language": "python",
   "name": "python3"
  },
  "language_info": {
   "codemirror_mode": {
    "name": "ipython",
    "version": 3
   },
   "file_extension": ".py",
   "mimetype": "text/x-python",
   "name": "python",
   "nbconvert_exporter": "python",
   "pygments_lexer": "ipython3",
   "version": "3.7.7"
  },
  "latex_envs": {
   "LaTeX_envs_menu_present": true,
   "autoclose": false,
   "autocomplete": true,
   "bibliofile": "biblio.bib",
   "cite_by": "apalike",
   "current_citInitial": 1,
   "eqLabelWithNumbers": true,
   "eqNumInitial": 1,
   "hotkeys": {
    "equation": "Ctrl-E",
    "itemize": "Ctrl-I"
   },
   "labels_anchors": false,
   "latex_user_defs": false,
   "report_style_numbering": false,
   "user_envs_cfg": false
  },
  "pycharm": {
   "stem_cell": {
    "cell_type": "raw",
    "metadata": {
     "collapsed": false
    },
    "source": []
   }
  },
  "toc": {
   "base_numbering": 1,
   "nav_menu": {},
   "number_sections": true,
   "sideBar": true,
   "skip_h1_title": false,
   "title_cell": "Table of Contents",
   "title_sidebar": "Contents",
   "toc_cell": false,
   "toc_position": {},
   "toc_section_display": true,
   "toc_window_display": false
  }
 },
 "nbformat": 4,
 "nbformat_minor": 1
}
