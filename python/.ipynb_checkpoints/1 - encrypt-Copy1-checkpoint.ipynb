{
 "cells": [
  {
   "cell_type": "code",
   "execution_count": 2,
   "metadata": {},
   "outputs": [],
   "source": [
    "from lib.util.data import read_result_data , open_processed_ds\n",
    "from lib.util.env import getbase_dir\n",
    "# from splitting_bf.evaluation import *\n",
    "import multiprocessing as mp\n",
    "from splitting_bf.parallel_eval import *\n",
    "\n",
    "import os "
   ]
  },
  {
   "cell_type": "markdown",
   "metadata": {
    "heading_collapsed": true
   },
   "source": [
    "# Standarlizing personal data"
   ]
  },
  {
   "cell_type": "markdown",
   "metadata": {
    "heading_collapsed": true,
    "hidden": true
   },
   "source": [
    "## NCVR"
   ]
  },
  {
   "cell_type": "code",
   "execution_count": 48,
   "metadata": {
    "hidden": true
   },
   "outputs": [],
   "source": [
    "base_dir = getbase_dir('Datasets') + os.sep + 'NCVR' + os.sep\n",
    "original_file = base_dir + 'processed_ncvoters_1700_0.1.zip'\n",
    "\n",
    "a,b, gs = open_processed_ds(original_file)\n",
    "\n",
    "a = a.iloc[:,[0,2,4,5,6,7,8]]\n",
    "b = b.iloc[:,[0,2,4,5,6,7,8]]\n",
    "\n",
    "a['key'] = a.iloc[:,2].astype(str).str[0:3]\n",
    "b['key'] = b.iloc[:,2].astype(str).str[0:3]\n",
    "df = pd.merge(a, b,on='key')\n",
    "del df['key']\n",
    "\n",
    "df.to_csv(base_dir + 'sample-candset.csv',sep=',')"
   ]
  },
  {
   "cell_type": "markdown",
   "metadata": {
    "heading_collapsed": true,
    "hidden": true
   },
   "source": [
    "## MVR"
   ]
  },
  {
   "cell_type": "code",
   "execution_count": 54,
   "metadata": {
    "hidden": true
   },
   "outputs": [],
   "source": [
    "base_dir = getbase_dir('Datasets') + os.sep + 'MVR' + os.sep\n",
    "original_file = base_dir + 'michiganvoters_500_0.1.zip'\n",
    "\n",
    "a,b, gs = open_processed_ds(original_file)\n",
    "\n",
    "a = a.iloc[:,[0,1,2,5,6,10]]\n",
    "b = b.iloc[:,[0,1,2,5,6,10]]\n",
    "\n",
    "a['key'] = a.iloc[:,1].astype(str).str[0:2]\n",
    "b['key'] = b.iloc[:,1].astype(str).str[0:2]\n",
    "df = pd.merge(a, b,on='key')\n",
    "del df['key']\n",
    "\n",
    "df.to_csv(base_dir + 'sample-candset.csv',sep=',')"
   ]
  },
  {
   "cell_type": "markdown",
   "metadata": {
    "heading_collapsed": true,
    "hidden": true
   },
   "source": [
    "## YV-ER"
   ]
  },
  {
   "cell_type": "code",
   "execution_count": 3,
   "metadata": {
    "hidden": true
   },
   "outputs": [],
   "source": [
    "base_dir = getbase_dir('Datasets') + os.sep + 'yv-er' + os.sep\n",
    "original_file = base_dir + 'processed_yver.zip'\n",
    "\n",
    "a,b, gs = open_processed_ds(original_file)\n",
    "\n",
    "a = a.iloc[:,[0,2,3,4,7,8]] #6\n",
    "b = b.iloc[:,[0,2,3,4,7,8]]\n",
    "\n",
    "a['key'] = a.iloc[:,1].astype(str).str[0:2] + a.iloc[:,2].astype(str).str[0:2]\n",
    "b['key'] = b.iloc[:,1].astype(str).str[0:2] + b.iloc[:,2].astype(str).str[0:2]\n",
    "df = pd.merge(a, b,on='key')\n",
    "del df['key']\n",
    "\n",
    "df.to_csv(base_dir + 'sample-candset.csv',sep=',')"
   ]
  },
  {
   "cell_type": "markdown",
   "metadata": {},
   "source": [
    "# SBF  processing"
   ]
  },
  {
   "cell_type": "markdown",
   "metadata": {},
   "source": [
    "encrypting and running SBF at Magallan Datasets"
   ]
  },
  {
   "cell_type": "code",
   "execution_count": 3,
   "metadata": {
    "pycharm": {
     "name": "#%%\n"
    }
   },
   "outputs": [
    {
     "name": "stdout",
     "output_type": "stream",
     "text": [
      "Done beer!\n"
     ]
    }
   ],
   "source": [
    "processMultisplit('beer', 'sample-candset.csv', [1,3,4] , [2,5,6],96,np=8)\n",
    "processMultisplit('books1', 'candset.csv', [1,3,4,5] , [2,6,7,8],256)\n",
    "processMultisplit('eletronics', 'sample-candset.csv', [1,4,5,3] , [2,6,7,8],1024)\n",
    "processMultisplit('movies1', 'candset.csv', [1,3,4,5] , [2,6,7,8],768)\n",
    "processMultisplit('music', 'sample-candset.csv', [2,4,5,6,7,8,9] , [3,10,11,12,13,14,15],1024)\n",
    "processMultisplit('restaurants1', 'sample-candset.csv', [1,3,4,5] , [2,6,7,8],128)"
   ]
  },
  {
   "cell_type": "markdown",
   "metadata": {},
   "source": [
    "Running SBF in personal datasets"
   ]
  },
  {
   "cell_type": "code",
   "execution_count": 5,
   "metadata": {},
   "outputs": [
    {
     "name": "stdout",
     "output_type": "stream",
     "text": [
      "Done NCVR!\n",
      "Done MVR!\n"
     ]
    }
   ],
   "source": [
    "processMultisplit('NCVR', 'sample-candset.csv', [1,2,3,4,5,6,7] , [7,8,9,10,11,12,13],96,cores=8)\n",
    "processMultisplit('MVR', 'sample-candset.csv', [1,2,3,4,5,6] , [7,8,9,10,11,12],96,cores=8)\n",
    "processMultisplit('yv-er', 'sample-candset.csv', [1,2,3,4,5,6] , [7,8,9,10,11,12],96,cores=8)"
   ]
  }
 ],
 "metadata": {
  "kernelspec": {
   "display_name": "Python 3",
   "language": "python",
   "name": "python3"
  },
  "language_info": {
   "codemirror_mode": {
    "name": "ipython",
    "version": 3
   },
   "file_extension": ".py",
   "mimetype": "text/x-python",
   "name": "python",
   "nbconvert_exporter": "python",
   "pygments_lexer": "ipython3",
   "version": "3.7.7"
  },
  "latex_envs": {
   "LaTeX_envs_menu_present": true,
   "autoclose": false,
   "autocomplete": true,
   "bibliofile": "biblio.bib",
   "cite_by": "apalike",
   "current_citInitial": 1,
   "eqLabelWithNumbers": true,
   "eqNumInitial": 1,
   "hotkeys": {
    "equation": "Ctrl-E",
    "itemize": "Ctrl-I"
   },
   "labels_anchors": false,
   "latex_user_defs": false,
   "report_style_numbering": false,
   "user_envs_cfg": false
  },
  "toc": {
   "base_numbering": 1,
   "nav_menu": {},
   "number_sections": true,
   "sideBar": true,
   "skip_h1_title": false,
   "title_cell": "Table of Contents",
   "title_sidebar": "Contents",
   "toc_cell": false,
   "toc_position": {},
   "toc_section_display": true,
   "toc_window_display": false
  }
 },
 "nbformat": 4,
 "nbformat_minor": 1
}
