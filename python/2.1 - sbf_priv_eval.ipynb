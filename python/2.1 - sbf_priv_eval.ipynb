{
 "cells": [
  {
   "cell_type": "code",
   "execution_count": null,
   "metadata": {
    "id": "0WIBuE25Eik5"
   },
   "outputs": [],
   "source": [
    "#pip install bitarray ngram xxhash"
   ]
  },
  {
   "cell_type": "code",
   "execution_count": null,
   "metadata": {
    "id": "8XiaVpMO-kS3"
   },
   "outputs": [],
   "source": [
    "# from google.colab import drive\n",
    "# drive.mount('/gdrive')\n",
    "# libdir = '/gdrive/My Drive/Colab Notebooks/tlpprl2/libs/'"
   ]
  },
  {
   "cell_type": "code",
   "execution_count": 2,
   "metadata": {
    "id": "07F9knKg-dqK",
    "pycharm": {
     "is_executing": true
    }
   },
   "outputs": [],
   "source": [
    "import sys\n",
    "import os\n",
    "import csv\n",
    "import time\n",
    "import datetime\n",
    "import math\n",
    "\n",
    "import pandas as pd\n",
    "import numpy as np\n",
    "\n",
    "import matplotlib.pyplot as plt\n",
    "# from bitarray import bitarray\n",
    "# import ngram\n",
    "\n",
    "# sys.path.append(libdir)\n",
    "\n",
    "# from bloomfilter import *"
   ]
  },
  {
   "cell_type": "code",
   "execution_count": 3,
   "metadata": {
    "id": "IdVS54O2Iahi"
   },
   "outputs": [],
   "source": [
    "# setting the axes at the centre\n",
    "def plot_fx(x,y,log=False,eixo_x='x',eixo_y='y',titulo='',\n",
    "            figs=None,step=.1,arredondamento_x=1,plot_optimum=False,\n",
    "            cor='cornflowerblue'):\n",
    "  if figs == None:\n",
    "    fig, ax = plt.subplots()\n",
    "  else:\n",
    "    fig, ax = plt.subplots(figsize=figs)\n",
    "\n",
    "  ax.plot(x,y, cor, label='' , linewidth=3.)\n",
    "  ax.legend(loc='upper left')\n",
    "  ax.set(xlabel=eixo_x, ylabel=eixo_y,\n",
    "       title=titulo)\n",
    "\n",
    "  if log:\n",
    "    from matplotlib.ticker import FormatStrFormatter\n",
    "    ax.set_yscale('log')\n",
    "    \n",
    "    # antigo\n",
    "    # n_min = y.argmin()\n",
    "    # ax.plot(x[n_min],y[n_min],'o',color='red',linewidth=5.)\n",
    "    # ax.annotate('min='+str(x[n_min])[0:3], xy=(x[n_min],y[n_min]), xytext=(x[n_min]+.001,y[n_min]+.001))\n",
    "\n",
    "    if plot_optimum:\n",
    "      index_red = np.where(np.logical_and(x>=.45, x<=.55))\n",
    "      # ax.plot(x[index_red],y[index_red],'red',linewidth=3.)\n",
    "      ax.plot(.5,.01,marker=\"o\", markersize=10,color='red')\n",
    "\n",
    "    # ax.set_xscale('log')\n",
    "    # x_ticks = np.arange(0, 1, 10)\n",
    "    # ax.set_xticks(x_ticks)\n",
    "    \n",
    "    ax.grid(True, which=\"both\", ls=\"-\")\n",
    "    \n",
    "    ax.xaxis.set_major_formatter(FormatStrFormatter(\"%.\"+str(arredondamento_x)+\"f\"))\n",
    "    ax.yaxis.set_minor_formatter(FormatStrFormatter(\"%.2f\"))\n",
    "\n",
    "  else:\n",
    "    ax.grid()\n",
    "\n",
    "# plot_fx(x,y,log=True,eixo_x='|k|',titulo='Ola', figs=(10,9))"
   ]
  },
  {
   "cell_type": "code",
   "execution_count": 4,
   "metadata": {},
   "outputs": [],
   "source": [
    "def p_um(k,l,n):\n",
    "  '''\n",
    "    Probabilidade de um elemento do filtro ser 1\n",
    "  '''\n",
    "  top = -1 * ((k*n)/l)\n",
    "  # the function, which is y = e^x here\n",
    "  p_zero = np.exp(top)\n",
    "  # p_zero = pow(math.e,top)\n",
    "  return 1 - p_zero\n",
    "\n",
    "p_um(1,920,96)\n",
    "\n",
    "def fpr(k,l,n):\n",
    "    return math.pow(p_um(k,l,n),k)"
   ]
  },
  {
   "cell_type": "markdown",
   "metadata": {
    "id": "UdWcuGi1_CvT"
   },
   "source": [
    "# priv"
   ]
  },
  {
   "cell_type": "code",
   "execution_count": 14,
   "metadata": {
    "colab": {
     "base_uri": "https://localhost:8080/",
     "height": 34
    },
    "id": "05iCA4Fum_fz",
    "outputId": "ef95dcc0-1107-4614-db2b-28b1d0ba346b"
   },
   "outputs": [],
   "source": [
    "# n_min = \n",
    "# index_red = np.where(np.logical_and(x>=.45, x<=.55))\n",
    "# x[index_red]\n",
    "    # ax.plot(x[n_min],y[n_min],'o',color='red',linewidth=5.)"
   ]
  },
  {
   "cell_type": "code",
   "execution_count": 5,
   "metadata": {},
   "outputs": [
    {
     "name": "stdout",
     "output_type": "stream",
     "text": [
      "920.0\n"
     ]
    },
    {
     "data": {
      "text/plain": [
       "0.010047808192968098"
      ]
     },
     "execution_count": 5,
     "metadata": {},
     "output_type": "execute_result"
    }
   ],
   "source": [
    "def p_bigram_in_s(k,l,n,s):\n",
    "    print(l/s)\n",
    "    top = ((-k*n)/(l/s))\n",
    "    # the function, which is y = e^x here\n",
    "    p_zero = np.exp(top)\n",
    "    return math.pow((1 - p_zero),k)\n",
    "\n",
    "\n",
    "p_bigram_in_s(7,920,96,1)"
   ]
  },
  {
   "cell_type": "code",
   "execution_count": 6,
   "metadata": {},
   "outputs": [
    {
     "name": "stdout",
     "output_type": "stream",
     "text": [
      "0.18835778039791418\n",
      "0.3412369073593995\n",
      "0.5183004900152096\n",
      "0.6477725900072888\n"
     ]
    },
    {
     "data": {
      "text/plain": [
       "0.2686353979500064"
      ]
     },
     "execution_count": 6,
     "metadata": {},
     "output_type": "execute_result"
    }
   ],
   "source": [
    "def p_bigram_in_s(k,l,n,s):\n",
    "  return math.pow(p_um(k,l,n),s)\n",
    "\n",
    "print(p_um(2,920,96))\n",
    "print(p_um(4,920,96))\n",
    "print(p_um(7,920,96))\n",
    "print(p_um(10,920,96))\n",
    "\n",
    "p_bigram_in_s(7,920,96,2)"
   ]
  },
  {
   "cell_type": "markdown",
   "metadata": {
    "id": "_sox4keJUBvv"
   },
   "source": [
    "Probabilidade no bf (orignal)"
   ]
  },
  {
   "cell_type": "code",
   "execution_count": null,
   "metadata": {
    "colab": {
     "base_uri": "https://localhost:8080/",
     "height": 34
    },
    "id": "iWz6glUhEunw",
    "outputId": "d66d6e39-9124-4cff-9dcd-a9debc747874"
   },
   "outputs": [
    {
     "data": {
      "text/plain": [
       "44"
      ]
     },
     "execution_count": 9,
     "metadata": {
      "tags": []
     },
     "output_type": "execute_result"
    }
   ],
   "source": [
    "#len(x)\n",
    "# np.linspace(1/45,1,100)\n",
    "# x/45.format()"
   ]
  },
  {
   "cell_type": "markdown",
   "metadata": {},
   "source": [
    "Plota com a probabilidade f (false positive fixa) fixa"
   ]
  },
  {
   "cell_type": "code",
   "execution_count": 7,
   "metadata": {},
   "outputs": [],
   "source": [
    "n_splits = np.array([2,4,8,16,32])\n",
    "# n_splits = np.array([2,4,8])\n",
    "ks = np.array([4,7,11,16])\n",
    "# ks = np.array([3,7,16])\n",
    "\n",
    "coluna_splits = []\n",
    "coluna_k = []\n",
    "coluna_px = []\n",
    "\n",
    "for split in n_splits:\n",
    "    px = np.array([p_bigram_in_s(k,920,96,split) for k in ks])\n",
    "    \n",
    "    coluna_px = coluna_px + list(px)\n",
    "    \n",
    "    for k in ks:\n",
    "        coluna_k.append(p_um(k,920,96))\n",
    "#     coluna_k = coluna_k + list(ks)\n",
    "\n",
    "#     ss = [split] * len(ks)\n",
    "    ss = [1/split] * len(ks)\n",
    "    coluna_splits = coluna_splits + ss\n",
    "        \n",
    "\n",
    "df = pd.DataFrame({'splits': coluna_splits, 'fpr': coluna_k, 'px': coluna_px})\n",
    "\n",
    "df.fpr = df.fpr.round(2)"
   ]
  },
  {
   "cell_type": "code",
   "execution_count": null,
   "metadata": {},
   "outputs": [],
   "source": []
  },
  {
   "cell_type": "code",
   "execution_count": 8,
   "metadata": {},
   "outputs": [
    {
     "data": {
      "image/png": "[encoded data removed]",
      "text/plain": [
       "<Figure size 432x360 with 1 Axes>"
      ]
     },
     "metadata": {
      "needs_background": "light"
     },
     "output_type": "display_data"
    }
   ],
   "source": [
    "import seaborn as sns\n",
    "import matplotlib.ticker as mticker\n",
    "\n",
    "fig, ax = plt.subplots(figsize=(6,5))\n",
    "sns.set_style('ticks', {'axes.edgecolor': '0',  \n",
    "                        'xtick.color': '0',\n",
    "                        'ytick.color': '0'})\n",
    "          \n",
    "g = sns.lineplot(data=df, x=\"splits\", y=\"px\", style=\"fpr\",\n",
    "                 markers=True, dashes=True, ci=None,\n",
    "                 ax=ax)\n",
    "\n",
    "g.set_xticklabels(g.get_xticklabels(), rotation=45, horizontalalignment='right')\n",
    "\n",
    "# sns.despine(trim=True)\n",
    "\n",
    "\n",
    "ax.set_title(\"Privacy of the SBF\")\n",
    "ax.set_ylabel(r\"$P(ng \\in \\phi)$\")\n",
    "ax.set_xlabel(\"splits length in % of the original\")\n",
    "# ax.set(yscale=\"log\")\n",
    "ax.set(xscale=\"log\")\n",
    "ax.grid(True)\n",
    "\n",
    "# ax.yaxis.set_minor_locator(mticker.FixedLocator([0.1,.2,.3,.4,.5]))\n",
    "\n",
    "\n",
    "ax.xaxis.set_major_formatter(\n",
    "    mticker.FuncFormatter(lambda y, _: '{:g}'.format(y))\n",
    ")\n",
    "\n",
    "ax.xaxis.set_minor_formatter(\n",
    "    mticker.FuncFormatter(lambda y, _: '{:g}'.format(y))\n",
    ")\n",
    "\n",
    "for text in ax.get_xminorticklabels():\n",
    "    text.set_rotation(45)\n",
    "\n",
    "plt.legend(title='BF false postive rate')\n",
    "plt.xlim(max(df.splits),min(df.splits))\n",
    "plt.tight_layout()\n",
    "\n",
    "fig.savefig('../results/figs/priv_sbf_rev_01.pdf')\n",
    "\n"
   ]
  },
  {
   "cell_type": "code",
   "execution_count": 82,
   "metadata": {},
   "outputs": [
    {
     "data": {
      "text/plain": [
       "[16, 16, 16, 16, 16]"
      ]
     },
     "execution_count": 82,
     "metadata": {},
     "output_type": "execute_result"
    }
   ],
   "source": [
    "# print(p_um(2,920,96))\n",
    "# print(p_um(3,920,96))\n",
    "# print(p_um(7,920,96))\n",
    "# print(p_um(11,920,96))\n",
    "# print(p_um(16,920,96))\n",
    "\n",
    "\n",
    "\n",
    "# sns.lineplot(data=flights, x=\"year\", y=\"passengers\", hue=\"month\")\n",
    "\n",
    "\n",
    "# v_fun = np.vectorize(p_um)\n",
    "# x = v_fun(x,920,96)\n",
    "# plot_fx(x,y,log=True,eixo_x='$f$',eixo_y='$P(ng \\in \\phi)$',titulo=r'Privacy of the SBF',\n",
    "#         plot_optimum=True,\n",
    "#         figs=(7,6))"
   ]
  },
  {
   "cell_type": "markdown",
   "metadata": {},
   "source": [
    "plota variando f"
   ]
  },
  {
   "cell_type": "markdown",
   "metadata": {},
   "source": [
    "# Scratch"
   ]
  },
  {
   "cell_type": "markdown",
   "metadata": {},
   "source": [
    "## original"
   ]
  },
  {
   "cell_type": "code",
   "execution_count": 14,
   "metadata": {
    "colab": {
     "base_uri": "https://localhost:8080/",
     "height": 34
    },
    "id": "q83LJq0CEmqy",
    "outputId": "f2844987-b74a-473e-da8e-d1f0fbf8f15a"
   },
   "outputs": [
    {
     "data": {
      "text/plain": [
       "0.010047808192968098"
      ]
     },
     "execution_count": 14,
     "metadata": {},
     "output_type": "execute_result"
    }
   ],
   "source": [
    "def p_bigram_in_s(k,l,n):\n",
    "  return math.pow(p_um(k,l,n),k)\n",
    "\n",
    "p_bigram_in_s(7,920,96)"
   ]
  },
  {
   "cell_type": "code",
   "execution_count": 24,
   "metadata": {
    "colab": {
     "base_uri": "https://localhost:8080/",
     "height": 425
    },
    "id": "HAQNCbkwMLbh",
    "outputId": "60950f9b-e237-43c9-c0b8-76d036140b44"
   },
   "outputs": [
    {
     "name": "stderr",
     "output_type": "stream",
     "text": [
      "No handles with labels found to put in legend.\n"
     ]
    },
    {
     "data": {
      "image/png": "[encoded data removed]",
      "text/plain": [
       "<Figure size 504x432 with 1 Axes>"
      ]
     },
     "metadata": {
      "needs_background": "light"
     },
     "output_type": "display_data"
    }
   ],
   "source": [
    "x = np.arange(1,23,1)\n",
    "y = np.array([p_bigram_in_s(xi,920,96) for xi in x])\n",
    "\n",
    "v_fun = np.vectorize(p_um)\n",
    "x = v_fun(x,920,96)\n",
    "plot_fx(x,y,log=True,eixo_x='$P(b_j)$',eixo_y='$P(ng \\in \\phi)$',titulo=r'Privacy of the SBF',\n",
    "        plot_optimum=True,\n",
    "        figs=(7,6))"
   ]
  },
  {
   "cell_type": "markdown",
   "metadata": {
    "heading_collapsed": true
   },
   "source": [
    "## Old"
   ]
  },
  {
   "cell_type": "code",
   "execution_count": null,
   "metadata": {
    "colab": {
     "base_uri": "https://localhost:8080/",
     "height": 34
    },
    "hidden": true,
    "id": "e4Ut-GnuF_kL",
    "outputId": "404ccce9-8895-4951-eb3c-994ac17d3852"
   },
   "outputs": [
    {
     "data": {
      "text/plain": [
       "(0.0, 0.0, 0.008803981432802144)"
      ]
     },
     "execution_count": 109,
     "metadata": {
      "tags": []
     },
     "output_type": "execute_result"
    }
   ],
   "source": [
    "def p_bigrams_in_s(k,l,n,s_percentage):\n",
    "  s =  int(l*s_percentage)\n",
    "  # print(s)\n",
    "  # return 1 - math.pow(p_bigram_in_s(k,l,n),int(s/k))\n",
    "  # return 1 - math.pow(p_um(k,l,n),s)\n",
    "  return 1 - np.power((1 - np.exp((-k*n)/s)),(s/k))\n",
    "\n",
    "p_bigrams_in_s(7,920,96,.011),p_bigrams_in_s(7,920,96,.0025),p_bigrams_in_s(7,920,96,.1)"
   ]
  },
  {
   "cell_type": "code",
   "execution_count": null,
   "metadata": {
    "colab": {
     "base_uri": "https://localhost:8080/",
     "height": 405
    },
    "hidden": true,
    "id": "GxeiMiUtIu7H",
    "outputId": "c2cd2c2f-d6a4-409c-cf34-2fc3f41043cd"
   },
   "outputs": [
    {
     "name": "stderr",
     "output_type": "stream",
     "text": [
      "No handles with labels found to put in legend.\n"
     ]
    },
    {
     "data": {
      "image/png": "[encoded data removed]",
      "text/plain": [
       "<Figure size 648x432 with 1 Axes>"
      ]
     },
     "metadata": {
      "needs_background": "light",
      "tags": []
     },
     "output_type": "display_data"
    }
   ],
   "source": [
    "x = np.linspace(0.01,.4,100)\n",
    "y = np.array([p_bigrams_in_s(7,920,96,xi) for xi in x])\n",
    "# x = 96 * x\n",
    "plot_fx(x,y,log=True,eixo_x='s',eixo_y='p(token)',\n",
    "        arredondamento_x=2,\n",
    "        figs=(9,6))"
   ]
  },
  {
   "cell_type": "code",
   "execution_count": null,
   "metadata": {
    "hidden": true,
    "id": "vj72DnRdJR7Y"
   },
   "outputs": [],
   "source": [
    "def p_bigrams_in_varphi(k,l,n,s_percentage,parties)"
   ]
  },
  {
   "cell_type": "code",
   "execution_count": null,
   "metadata": {
    "colab": {
     "base_uri": "https://localhost:8080/",
     "height": 235
    },
    "hidden": true,
    "id": "nIiNnZKY_u28",
    "outputId": "e87f1c8a-8f03-4711-e175-ad0450b0a6b2"
   },
   "outputs": [
    {
     "data": {
      "text/html": [
       "<div>\n",
       "<style scoped>\n",
       "    .dataframe tbody tr th:only-of-type {\n",
       "        vertical-align: middle;\n",
       "    }\n",
       "\n",
       "    .dataframe tbody tr th {\n",
       "        vertical-align: top;\n",
       "    }\n",
       "\n",
       "    .dataframe thead th {\n",
       "        text-align: right;\n",
       "    }\n",
       "</style>\n",
       "<table border=\"1\" class=\"dataframe\">\n",
       "  <thead>\n",
       "    <tr style=\"text-align: right;\">\n",
       "      <th></th>\n",
       "      <th>scenario</th>\n",
       "      <th>l</th>\n",
       "      <th>k</th>\n",
       "      <th>s</th>\n",
       "      <th>bigrams_in_s</th>\n",
       "      <th>mean_bigrams_in_ds</th>\n",
       "      <th>p</th>\n",
       "    </tr>\n",
       "  </thead>\n",
       "  <tbody>\n",
       "    <tr>\n",
       "      <th>0</th>\n",
       "      <td>bike/beer</td>\n",
       "      <td>920</td>\n",
       "      <td>7</td>\n",
       "      <td>46</td>\n",
       "      <td>6</td>\n",
       "      <td>96</td>\n",
       "      <td>0.06</td>\n",
       "    </tr>\n",
       "    <tr>\n",
       "      <th>1</th>\n",
       "      <td>books</td>\n",
       "      <td>2456</td>\n",
       "      <td>8</td>\n",
       "      <td>122</td>\n",
       "      <td>15</td>\n",
       "      <td>256</td>\n",
       "      <td>0.06</td>\n",
       "    </tr>\n",
       "    <tr>\n",
       "      <th>2</th>\n",
       "      <td>eletronics</td>\n",
       "      <td>9816</td>\n",
       "      <td>10</td>\n",
       "      <td>490</td>\n",
       "      <td>49</td>\n",
       "      <td>1024</td>\n",
       "      <td>0.05</td>\n",
       "    </tr>\n",
       "    <tr>\n",
       "      <th>3</th>\n",
       "      <td>movies</td>\n",
       "      <td>7360</td>\n",
       "      <td>7</td>\n",
       "      <td>368</td>\n",
       "      <td>52</td>\n",
       "      <td>768</td>\n",
       "      <td>0.07</td>\n",
       "    </tr>\n",
       "    <tr>\n",
       "      <th>4</th>\n",
       "      <td>music</td>\n",
       "      <td>9816</td>\n",
       "      <td>10</td>\n",
       "      <td>490</td>\n",
       "      <td>49</td>\n",
       "      <td>1024</td>\n",
       "      <td>0.05</td>\n",
       "    </tr>\n",
       "    <tr>\n",
       "      <th>5</th>\n",
       "      <td>restaurants</td>\n",
       "      <td>1224</td>\n",
       "      <td>7</td>\n",
       "      <td>61</td>\n",
       "      <td>8</td>\n",
       "      <td>128</td>\n",
       "      <td>0.06</td>\n",
       "    </tr>\n",
       "  </tbody>\n",
       "</table>\n",
       "</div>"
      ],
      "text/plain": [
       "      scenario     l   k    s  bigrams_in_s  mean_bigrams_in_ds     p\n",
       "0    bike/beer   920   7   46             6                  96  0.06\n",
       "1        books  2456   8  122            15                 256  0.06\n",
       "2   eletronics  9816  10  490            49                1024  0.05\n",
       "3       movies  7360   7  368            52                 768  0.07\n",
       "4        music  9816  10  490            49                1024  0.05\n",
       "5  restaurants  1224   7   61             8                 128  0.06"
      ]
     },
     "execution_count": 4,
     "metadata": {
      "tags": []
     },
     "output_type": "execute_result"
    }
   ],
   "source": [
    "# MOVIES 9 PARA 7\n",
    "entradas = [('bike/beer',920,7,96),('books',2456,8,256),('eletronics',9816,10,1024),('movies',7360,7,768),('music',9816,10,1024),('restaurants',1224,7,128)]\n",
    "ps = 0.05\n",
    "\n",
    "_out = []\n",
    "for caso in entradas:\n",
    "  scenario = caso[0]\n",
    "  l = caso[1]\n",
    "  k = caso[2]\n",
    "  n = caso[3]\n",
    "  s = int(l*ps)\n",
    "  n_bigrams= int(s/k)\n",
    "  mean_bigrams = caso[3]\n",
    "  _out.append({'scenario':scenario,\n",
    "                'l':l,\n",
    "                'k':k,\n",
    "                's':s,\n",
    "                'bigrams_in_s':n_bigrams,\n",
    "                'mean_bigrams_in_ds': mean_bigrams\n",
    "               })\n",
    "\n",
    "df = pd.DataFrame(_out)\n",
    "df['p'] = (df.bigrams_in_s / df.mean_bigrams_in_ds) \n",
    "df.round(2)"
   ]
  },
  {
   "cell_type": "markdown",
   "metadata": {
    "id": "-wW2EqLJ-dqR"
   },
   "source": [
    "## Novas metricas"
   ]
  },
  {
   "cell_type": "code",
   "execution_count": null,
   "metadata": {
    "id": "ADlXD_HA-dqO"
   },
   "outputs": [],
   "source": [
    "def encryptData(data,size,fp=0.01,n=2,bpower=8,p=None):\n",
    "    \"\"\"\n",
    "        n : 2 = Bigrams\n",
    "        size : Size of BF\n",
    "        fp : False positive rate\n",
    "    \"\"\"\n",
    "    bloomfilter = BloomFilter(size,fp,bfpower=bpower)\n",
    "    if p != None:\n",
    "        bloomfilter.set_hashfunction_by_p(p)\n",
    "\n",
    "    index = ngram.NGram(N=n)\n",
    "    bigrams = list(index.ngrams(index.pad(str(data))))\n",
    "    print(bigrams)\n",
    "\n",
    "    for bigram in bigrams:\n",
    "        bloomfilter.add(str(bigram))\n",
    "\n",
    "    return bloomfilter"
   ]
  },
  {
   "cell_type": "code",
   "execution_count": null,
   "metadata": {
    "id": "O8PMp6SX-dqS"
   },
   "outputs": [],
   "source": [
    "def entropy_coefficient(filter1 , filter2, base=2):\n",
    "    \"\"\" \n",
    "        Calculates the entropy coeficiente of the two underlyng bloom filter.\n",
    "        \n",
    "        filter1 : crypto.mybloom.bloomfilter\n",
    "        filter2 : crypto.mybloom.bloomfilter\n",
    "        \n",
    "        return : number between 0 and 1\n",
    "    \"\"\"\n",
    "    \n",
    "    \n",
    "    if (type(filter1) is NullField) or (type(filter2) is NullField) :\n",
    "        return 0 \n",
    "    \n",
    "    total_count = int(filter1.bit_size)\n",
    "    \n",
    "    f1_element_count = filter1.filter.count(True)\n",
    "    f2_element_count = filter2.filter.count(True)\n",
    "    \n",
    "    prob_f1 = f1_element_count / total_count\n",
    "    prob_f2 = f1_element_count / total_count\n",
    "    \n",
    "    \n",
    "    e_f1 = -1.0 * total_count * prob_f1 * math.log(prob_f1) / math.log(base)\n",
    "    e_f2 = -1.0 * total_count * prob_f2 * math.log(prob_f2) / math.log(base)\n",
    "    \n",
    "    entropy =  abs(e_f1 - e_f2)\n",
    "\n",
    "#     for element_count in Counter(data).values():\n",
    "#         p = element_count / total_count\n",
    "#         entropy -= p * math.log(p, self.base)\n",
    "        \n",
    "    assert entropy >= 0\n",
    "    \n",
    "    return 1 - entropy"
   ]
  },
  {
   "cell_type": "code",
   "execution_count": null,
   "metadata": {
    "id": "VDnIkL-0Cwd7"
   },
   "outputs": [],
   "source": [
    "#beer 96, lpower=256\n",
    "# plotResult('beer', 'sample-candset.csv', [1,3,4] , [2,5,6])\n",
    "# plotResult('bikes', 'candset.csv', [3,4,7] , [8,9,12])\n",
    "# plotResult('books1', 'candset.csv', [1,3,4,5] , [2,6,7,8],size=256)\n",
    "# plotResult('eletronics', 'sample-candset.csv', [1,4,5,3] , [2,6,7,8], size=1024)\n",
    "# plotResult('movies1', 'candset.csv', [1,3,4,5] , [2,6,7,8],size=768)\n",
    "# plotResult('music', 'sample-candset.csv', [2,4,5,6,7,8,9] , [3,10,11,12,13,14,15],size=1024)\n",
    "# plotResult('restaurants1', 'sample-candset.csv', [1,3,4,5] , [2,6,7,8],size=128)\n"
   ]
  },
  {
   "cell_type": "markdown",
   "metadata": {
    "id": "pOM7FZWF-dqc"
   },
   "source": [
    "## Testes"
   ]
  },
  {
   "cell_type": "code",
   "execution_count": null,
   "metadata": {
    "colab": {
     "base_uri": "https://localhost:8080/",
     "height": 51
    },
    "id": "t1yknZwk-dqg",
    "outputId": "faee3059-783b-46cc-b9c3-feadd57bb8db"
   },
   "outputs": [
    {
     "name": "stdout",
     "output_type": "stream",
     "text": [
      "['$A', 'A$']\n"
     ]
    },
    {
     "data": {
      "text/plain": [
       "(128, 1224, 7)"
      ]
     },
     "execution_count": 24,
     "metadata": {
      "tags": []
     },
     "output_type": "execute_result"
    }
   ],
   "source": [
    "e1='A'\n",
    "bf1 = encryptData(e1,128)\n",
    "#bf1.filter, \n",
    "bf1.capacity , bf1.bit_size , bf1.hash_functions"
   ]
  },
  {
   "cell_type": "code",
   "execution_count": null,
   "metadata": {
    "id": "kkzIjdil-dqc",
    "outputId": "f0442477-7a2a-4547-c875-383feaa12ec7"
   },
   "outputs": [
    {
     "name": "stdout",
     "output_type": "stream",
     "text": [
      "['$A', 'A$']\n",
      "['$A', 'AN', 'NE', 'E$']\n"
     ]
    }
   ],
   "source": [
    "e1='A'\n",
    "e2='ANE'\n",
    "bf1 = encryptData(e1,2)\n",
    "bf2 = encryptData(e2,8)"
   ]
  },
  {
   "cell_type": "code",
   "execution_count": null,
   "metadata": {
    "id": "KGQv-0wf-dqk",
    "outputId": "61f8ea0f-eb1f-4798-d4ab-c4f1ed718f5e"
   },
   "outputs": [
    {
     "name": "stdout",
     "output_type": "stream",
     "text": [
      "14\n",
      "5\n",
      "0\n",
      "3\n",
      "5\n",
      "3\n"
     ]
    }
   ],
   "source": [
    "import xxhash\n",
    "for seed in range(bf1.hash_functions):\n",
    "    print(xxhash.xxh64('$A', seed=seed).intdigest() % bf1.bit_size )"
   ]
  },
  {
   "cell_type": "code",
   "execution_count": null,
   "metadata": {
    "id": "0y4C8gMb-dqn",
    "outputId": "0310bc13-16d4-4760-9ec5-20a448c634e3"
   },
   "outputs": [
    {
     "data": {
      "text/plain": [
       "8"
      ]
     },
     "execution_count": 23,
     "metadata": {
      "tags": []
     },
     "output_type": "execute_result"
    }
   ],
   "source": [
    "bf1.filter.count(1)"
   ]
  },
  {
   "cell_type": "code",
   "execution_count": null,
   "metadata": {
    "id": "PWSjPzfS-dqq",
    "pycharm": {
     "name": "#%%\n"
    }
   },
   "outputs": [],
   "source": [
    "7360/(9*0.01)"
   ]
  },
  {
   "cell_type": "code",
   "execution_count": null,
   "metadata": {
    "id": "t7uRP1cv-dqs",
    "outputId": "fa2e0c94-29e4-4e9f-c5ba-428845f3e965"
   },
   "outputs": [
    {
     "data": {
      "text/plain": [
       "81777.77777777778"
      ]
     },
     "execution_count": 26,
     "metadata": {
      "tags": []
     },
     "output_type": "execute_result"
    }
   ],
   "source": [
    "## Testes metricas"
   ]
  }
 ],
 "metadata": {
  "colab": {
   "collapsed_sections": [
    "-wW2EqLJ-dqR",
    "pOM7FZWF-dqc",
    "pNH-kft7-dqu"
   ],
   "name": "prova.ipynb",
   "provenance": [],
   "toc_visible": true
  },
  "kernelspec": {
   "display_name": "Python 3",
   "language": "python",
   "name": "python3"
  },
  "language_info": {
   "codemirror_mode": {
    "name": "ipython",
    "version": 3
   },
   "file_extension": ".py",
   "mimetype": "text/x-python",
   "name": "python",
   "nbconvert_exporter": "python",
   "pygments_lexer": "ipython3",
   "version": "3.7.7"
  },
  "latex_envs": {
   "LaTeX_envs_menu_present": true,
   "autoclose": false,
   "autocomplete": true,
   "bibliofile": "biblio.bib",
   "cite_by": "apalike",
   "current_citInitial": 1,
   "eqLabelWithNumbers": true,
   "eqNumInitial": 1,
   "hotkeys": {
    "equation": "Ctrl-E",
    "itemize": "Ctrl-I"
   },
   "labels_anchors": false,
   "latex_user_defs": false,
   "report_style_numbering": false,
   "user_envs_cfg": false
  },
  "toc": {
   "base_numbering": 1,
   "nav_menu": {},
   "number_sections": true,
   "sideBar": true,
   "skip_h1_title": false,
   "title_cell": "Table of Contents",
   "title_sidebar": "Contents",
   "toc_cell": false,
   "toc_position": {},
   "toc_section_display": true,
   "toc_window_display": false
  }
 },
 "nbformat": 4,
 "nbformat_minor": 1
}
