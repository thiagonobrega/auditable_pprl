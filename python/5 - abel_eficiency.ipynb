{
 "cells": [
  {
   "cell_type": "code",
   "execution_count": 1,
   "metadata": {},
   "outputs": [],
   "source": [
    "import pandas as pd\n",
    "import matplotlib.pyplot as plt\n",
    "import numpy as np\n",
    "import seaborn as sns\n",
    "\n",
    "from lib.util.data import read_result_data\n",
    "from lib.util.env import getbase_dir"
   ]
  },
  {
   "cell_type": "code",
   "execution_count": 1,
   "metadata": {},
   "outputs": [],
   "source": [
    "def plt_exec_time_general(df,measure_variable,title,fig_dim=(11.7, 8.27)):\n",
    "\n",
    "\n",
    "    measure_variable = measure_variable+\"_exec_time_bc\"\n",
    "    sns.set(style=\"whitegrid\")\n",
    "    f, axes = plt.subplots(1, 2,figsize=fig_dim)\n",
    "\n",
    "    sns.violinplot(data=df, y=measure_variable,color=\"gray\",\n",
    "                    inner=None, linewidth=0, saturation=0.8 ,\n",
    "                    ax=axes[0])\n",
    "\n",
    "    axes[0].boxplot(df[measure_variable], whis='range', positions=np.array([0]),\n",
    "                showcaps=False,widths=0.06, patch_artist=True,\n",
    "                boxprops=dict(color=\"indigo\", facecolor=\"c\"),\n",
    "                whiskerprops=dict(color=\"gray\", linewidth=1),\n",
    "                medianprops=dict(color=\"w\", linewidth=2 ))\n",
    "\n",
    "    sns.boxplot(y=measure_variable, data=df, showfliers=False,\n",
    "                color=\"white\", ax=axes[1])\n",
    "    f.suptitle(title)\n",
    "    axes[0].set(xlabel=' ', ylabel='Execution time in sec')\n",
    "    axes[1].set(xlabel=' ', ylabel='Execution time in sec')\n",
    "    # plt.show()\n",
    "    return f\n",
    "\n",
    "def plot_all_exec_time(results,fig_dim=(11.7, 8.27)):\n",
    "    df = arrange_all_exec_time(results)\n",
    "    f, ax = plt.subplots(figsize=fig_dim)\n",
    "    ax.set(yscale=\"log\")\n",
    "    sns.barplot(data=df,x='setup',y='execution_time',ax=ax)\n",
    "\n",
    "    # plot bar values\n",
    "    for p in ax.patches:\n",
    "        ax.annotate(\"%.2f\" % p.get_height(), (p.get_x() + p.get_width() / 2., p.get_height()),\n",
    "                    ha='center', va='center', fontsize=11, color='black', xytext=(0, 5),\n",
    "                    textcoords='offset points')\n",
    "\n",
    "    ax.set_yticks([0.1, min(df['execution_time']), max(df['execution_time']), max(df['execution_time']) * 10])\n",
    "    # x\n",
    "    ax.set_xticklabels(ax.get_xticklabels(),rotation=70)\n",
    "    ax.set(xlabel=' ', ylabel='Execution time in sec (log)')\n",
    "    f.suptitle('Total Execution Time', fontsize=12)\n",
    "\n",
    "    return f\n",
    "\n",
    "def arrange_bc_exec_time(results, labels):\n",
    "    assert len(results) == len(labels)\n",
    "    data = {}\n",
    "    for i in range(0,len(results)):\n",
    "        name = labels[i] + '_exec_time_bc'\n",
    "        data[name] = list(results[i]['exec_time_bc'])\n",
    "\n",
    "    results[0]['exec_time_regular'] = max(results[0]['exec_time_regular'])\n",
    "\n",
    "    data['regular_exec_time'] = results[0]['exec_time_regular']\n",
    "    return pd.DataFrame(data)\n",
    "\n",
    "def arrange_all_exec_time(results):\n",
    "    d = {}\n",
    "    i = 0\n",
    "    for label in list(results.columns):\n",
    "\n",
    "        if i == 0:\n",
    "            d['setup'] = [label]\n",
    "            d['execution_time'] = [results[label].sum()]\n",
    "            i = 1\n",
    "        else:\n",
    "            tmp = d['setup']\n",
    "            tmp.append(label)\n",
    "            d['setup'] = tmp\n",
    "            v = d['execution_time']\n",
    "            v.append(results[label].sum())\n",
    "            d['execution_time'] = v\n",
    "\n",
    "    return pd.DataFrame(d)"
   ]
  },
  {
   "cell_type": "code",
   "execution_count": 3,
   "metadata": {},
   "outputs": [],
   "source": [
    "bdir = getbase_dir(['results', 'e1'])\n",
    "r_pow = read_result_data(bdir+'bike-PoW-09-03-2019_10-53-31-to-09-15-41-07.csv')\n",
    "r_poa = read_result_data(bdir+'bike-PoA-09-03-2019_16-57-35-to-09-21-28-20.csv')\n",
    "r_pr = read_result_data(bdir+'bike-private-PoW-11-03-2019_17-17-16-to-11-20-23-25.csv')\n",
    "r = arrange_bc_exec_time([r_pr,r_pow, r_poa], ['Private-PoW','Ropsten-PoW', 'Rinkeby-PoA'])"
   ]
  },
  {
   "cell_type": "code",
   "execution_count": 4,
   "metadata": {},
   "outputs": [],
   "source": [
    "r_pr['blockchain']  = 'Private-PoW'\n",
    "r_pow['blockchain'] = 'Ropsten-PoW' \n",
    "r_poa['blockchain'] = 'Rinkeby-PoA'"
   ]
  },
  {
   "cell_type": "code",
   "execution_count": 5,
   "metadata": {},
   "outputs": [],
   "source": [
    "df = pd.concat([pd.concat([r_pr,r_pow]),r_poa])\n",
    "# pd.concat(r_pr[['exec_time_bc','blockchain']],r_poa[['exec_time_bc','blockchain']])"
   ]
  },
  {
   "cell_type": "code",
   "execution_count": 9,
   "metadata": {},
   "outputs": [
    {
     "data": {
      "image/png": "[encoded data removed]",
      "text/plain": [
       "<Figure size 360x288 with 1 Axes>"
      ]
     },
     "metadata": {},
     "output_type": "display_data"
    }
   ],
   "source": [
    "bdir = getbase_dir(['results', 'vldb'])\n",
    "\n",
    "sns.set(style=\"whitegrid\")\n",
    "fig, ax = plt.subplots(figsize=(5, 4))\n",
    "\n",
    "sns.boxplot(y='exec_time_bc', x='blockchain', data=df, \n",
    "            color='silver' , saturation=.5,\n",
    "            showfliers=False, ax=ax)\n",
    "ax.axhline(.013, color='red', linestyle='--', linewidth=1.5, label='full_bf')\n",
    "ax.set(ylabel='time in sec')\n",
    "# ax.set_yscale(\"log\")\n",
    "# ax.set_title(\"Comparasion exection time\")\n",
    "ax.set_xlabel(\"\")\n",
    "ax.set_ylim(0.01,.3)\n",
    "from matplotlib.ticker import ScalarFormatter , MultipleLocator\n",
    "\n",
    "ax.yaxis.set_major_formatter(ScalarFormatter())\n",
    "ax.yaxis.set_major_locator(MultipleLocator(0.05))\n",
    "ax.text(-.07, 0.015, '0.01', horizontalalignment='left',verticalalignment='center', transform=ax.transAxes)\n",
    "fig.savefig(bdir+'abel_cc_bc_exec_time.png',dpi=300)\n",
    "fig.savefig(bdir+'abel_cc_bc_exec_time.pdf')"
   ]
  },
  {
   "cell_type": "code",
   "execution_count": 8,
   "metadata": {},
   "outputs": [
    {
     "data": {
      "text/plain": [
       "'D:\\\\Dados\\\\OneDrive\\\\Doutorado\\\\workspace\\\\bc-playground\\\\results\\\\vldb\\\\'"
      ]
     },
     "execution_count": 8,
     "metadata": {},
     "output_type": "execute_result"
    }
   ],
   "source": [
    "bdir"
   ]
  },
  {
   "cell_type": "markdown",
   "metadata": {},
   "source": [
    "##### bdir = getbase_dir(['results', 'abe_01'])\n",
    "\n",
    "\n",
    "#fpr = plt_exec_time_general(r, 'Private-PoW', \"Individual Private-PoW Execution Time\")\n",
    "#fpow = plt_exec_time_general(r,'Ropsten-PoW',\"Individual Ropsten-PoW Execution Time\")\n",
    "#fpoa = plt_exec_time_general(r, 'Rinkeby-PoA', \"Individual Rinkeby-PoA Execution Time\")\n",
    "\n",
    "fall = plot_all_exec_time(r)\n",
    "#     fpr.savefig('..//results/e1/pri_bike.png', bbox_inches='tight')\n",
    "#     fpow.savefig('..//results/e1/pow_bike.png', bbox_inches = 'tight')\n",
    "#     fpoa.savefig('..//results/e1/poa_bike.png', bbox_inches = 'tight')\n",
    "#fall.savefig(bdir+'all_bike.png', bbox_inches = 'tight')\n"
   ]
  },
  {
   "cell_type": "code",
   "execution_count": null,
   "metadata": {},
   "outputs": [],
   "source": []
  }
 ],
 "metadata": {
  "kernelspec": {
   "display_name": "Python 3",
   "language": "python",
   "name": "python3"
  },
  "language_info": {
   "codemirror_mode": {
    "name": "ipython",
    "version": 3
   },
   "file_extension": ".py",
   "mimetype": "text/x-python",
   "name": "python",
   "nbconvert_exporter": "python",
   "pygments_lexer": "ipython3",
   "version": "3.7.3"
  }
 },
 "nbformat": 4,
 "nbformat_minor": 2
}
